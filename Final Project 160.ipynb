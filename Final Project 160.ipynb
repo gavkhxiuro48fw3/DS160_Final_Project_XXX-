{
 "cells": [
  {
   "cell_type": "markdown",
   "id": "5e308dfd",
   "metadata": {},
   "source": [
    "importing all necesary libraries"
   ]
  },
  {
   "cell_type": "code",
   "execution_count": 1,
   "id": "a2336ae7",
   "metadata": {},
   "outputs": [],
   "source": [
    "import pandas as pd\n",
    "import matplotlib.pyplot as plt\n",
    "import seaborn as sns\n",
    "from fractions import Fraction\n",
    "from sklearn.model_selection import train_test_split\n",
    "from sklearn.linear_model import LinearRegression\n",
    "from sklearn.metrics import mean_squared_error,r2_score\n",
    "import math"
   ]
  },
  {
   "cell_type": "markdown",
   "id": "3fbaaefa",
   "metadata": {},
   "source": [
    "calling and analysing the dataset"
   ]
  },
  {
   "cell_type": "code",
   "execution_count": 2,
   "id": "28d62147",
   "metadata": {},
   "outputs": [],
   "source": [
    "dataset=pd.read_csv(\"dnd_monsters.csv\")"
   ]
  },
  {
   "cell_type": "code",
   "execution_count": 3,
   "id": "d0f4004a",
   "metadata": {},
   "outputs": [
    {
     "data": {
      "text/html": [
       "<div>\n",
       "<style scoped>\n",
       "    .dataframe tbody tr th:only-of-type {\n",
       "        vertical-align: middle;\n",
       "    }\n",
       "\n",
       "    .dataframe tbody tr th {\n",
       "        vertical-align: top;\n",
       "    }\n",
       "\n",
       "    .dataframe thead th {\n",
       "        text-align: right;\n",
       "    }\n",
       "</style>\n",
       "<table border=\"1\" class=\"dataframe\">\n",
       "  <thead>\n",
       "    <tr style=\"text-align: right;\">\n",
       "      <th></th>\n",
       "      <th>name</th>\n",
       "      <th>url</th>\n",
       "      <th>cr</th>\n",
       "      <th>type</th>\n",
       "      <th>size</th>\n",
       "      <th>ac</th>\n",
       "      <th>hp</th>\n",
       "      <th>speed</th>\n",
       "      <th>align</th>\n",
       "      <th>legendary</th>\n",
       "      <th>source</th>\n",
       "      <th>str</th>\n",
       "      <th>dex</th>\n",
       "      <th>con</th>\n",
       "      <th>int</th>\n",
       "      <th>wis</th>\n",
       "      <th>cha</th>\n",
       "    </tr>\n",
       "  </thead>\n",
       "  <tbody>\n",
       "    <tr>\n",
       "      <th>0</th>\n",
       "      <td>aarakocra</td>\n",
       "      <td>https://www.aidedd.org/dnd/monstres.php?vo=aar...</td>\n",
       "      <td>1/4</td>\n",
       "      <td>humanoid (aarakocra)</td>\n",
       "      <td>Medium</td>\n",
       "      <td>12</td>\n",
       "      <td>13</td>\n",
       "      <td>fly</td>\n",
       "      <td>neutral good</td>\n",
       "      <td>NaN</td>\n",
       "      <td>Monster Manual (BR)</td>\n",
       "      <td>10.0</td>\n",
       "      <td>14.0</td>\n",
       "      <td>10.0</td>\n",
       "      <td>11.0</td>\n",
       "      <td>12.0</td>\n",
       "      <td>11.0</td>\n",
       "    </tr>\n",
       "    <tr>\n",
       "      <th>1</th>\n",
       "      <td>abjurer</td>\n",
       "      <td>NaN</td>\n",
       "      <td>9</td>\n",
       "      <td>humanoid (any race)</td>\n",
       "      <td>Medium</td>\n",
       "      <td>12</td>\n",
       "      <td>84</td>\n",
       "      <td>NaN</td>\n",
       "      <td>any alignment</td>\n",
       "      <td>NaN</td>\n",
       "      <td>Volo's Guide to Monsters</td>\n",
       "      <td>NaN</td>\n",
       "      <td>NaN</td>\n",
       "      <td>NaN</td>\n",
       "      <td>NaN</td>\n",
       "      <td>NaN</td>\n",
       "      <td>NaN</td>\n",
       "    </tr>\n",
       "    <tr>\n",
       "      <th>2</th>\n",
       "      <td>aboleth</td>\n",
       "      <td>https://www.aidedd.org/dnd/monstres.php?vo=abo...</td>\n",
       "      <td>10</td>\n",
       "      <td>aberration</td>\n",
       "      <td>Large</td>\n",
       "      <td>17</td>\n",
       "      <td>135</td>\n",
       "      <td>swim</td>\n",
       "      <td>lawful evil</td>\n",
       "      <td>Legendary</td>\n",
       "      <td>Monster Manual (SRD)</td>\n",
       "      <td>21.0</td>\n",
       "      <td>9.0</td>\n",
       "      <td>15.0</td>\n",
       "      <td>18.0</td>\n",
       "      <td>15.0</td>\n",
       "      <td>18.0</td>\n",
       "    </tr>\n",
       "    <tr>\n",
       "      <th>3</th>\n",
       "      <td>abominable-yeti</td>\n",
       "      <td>NaN</td>\n",
       "      <td>9</td>\n",
       "      <td>monstrosity</td>\n",
       "      <td>Huge</td>\n",
       "      <td>15</td>\n",
       "      <td>137</td>\n",
       "      <td>NaN</td>\n",
       "      <td>chaotic evil</td>\n",
       "      <td>NaN</td>\n",
       "      <td>Monster Manual</td>\n",
       "      <td>NaN</td>\n",
       "      <td>NaN</td>\n",
       "      <td>NaN</td>\n",
       "      <td>NaN</td>\n",
       "      <td>NaN</td>\n",
       "      <td>NaN</td>\n",
       "    </tr>\n",
       "    <tr>\n",
       "      <th>4</th>\n",
       "      <td>acererak</td>\n",
       "      <td>NaN</td>\n",
       "      <td>23</td>\n",
       "      <td>undead</td>\n",
       "      <td>Medium</td>\n",
       "      <td>21</td>\n",
       "      <td>285</td>\n",
       "      <td>NaN</td>\n",
       "      <td>neutral evil</td>\n",
       "      <td>NaN</td>\n",
       "      <td>Adventures (Tomb of Annihilation)</td>\n",
       "      <td>NaN</td>\n",
       "      <td>NaN</td>\n",
       "      <td>NaN</td>\n",
       "      <td>NaN</td>\n",
       "      <td>NaN</td>\n",
       "      <td>NaN</td>\n",
       "    </tr>\n",
       "    <tr>\n",
       "      <th>5</th>\n",
       "      <td>acolyte</td>\n",
       "      <td>https://www.aidedd.org/dnd/monstres.php?vo=aco...</td>\n",
       "      <td>1/4</td>\n",
       "      <td>humanoid (any race)</td>\n",
       "      <td>Medium</td>\n",
       "      <td>10</td>\n",
       "      <td>9</td>\n",
       "      <td>NaN</td>\n",
       "      <td>any alignment</td>\n",
       "      <td>NaN</td>\n",
       "      <td>Monster Manual (SRD)</td>\n",
       "      <td>10.0</td>\n",
       "      <td>10.0</td>\n",
       "      <td>10.0</td>\n",
       "      <td>10.0</td>\n",
       "      <td>14.0</td>\n",
       "      <td>11.0</td>\n",
       "    </tr>\n",
       "  </tbody>\n",
       "</table>\n",
       "</div>"
      ],
      "text/plain": [
       "              name                                                url   cr  \\\n",
       "0        aarakocra  https://www.aidedd.org/dnd/monstres.php?vo=aar...  1/4   \n",
       "1          abjurer                                                NaN    9   \n",
       "2          aboleth  https://www.aidedd.org/dnd/monstres.php?vo=abo...   10   \n",
       "3  abominable-yeti                                                NaN    9   \n",
       "4         acererak                                                NaN   23   \n",
       "5          acolyte  https://www.aidedd.org/dnd/monstres.php?vo=aco...  1/4   \n",
       "\n",
       "                   type    size  ac   hp speed          align  legendary  \\\n",
       "0  humanoid (aarakocra)  Medium  12   13   fly   neutral good        NaN   \n",
       "1   humanoid (any race)  Medium  12   84   NaN  any alignment        NaN   \n",
       "2            aberration   Large  17  135  swim    lawful evil  Legendary   \n",
       "3           monstrosity    Huge  15  137   NaN   chaotic evil        NaN   \n",
       "4                undead  Medium  21  285   NaN   neutral evil        NaN   \n",
       "5   humanoid (any race)  Medium  10    9   NaN  any alignment        NaN   \n",
       "\n",
       "                              source   str   dex   con   int   wis   cha  \n",
       "0                Monster Manual (BR)  10.0  14.0  10.0  11.0  12.0  11.0  \n",
       "1           Volo's Guide to Monsters   NaN   NaN   NaN   NaN   NaN   NaN  \n",
       "2               Monster Manual (SRD)  21.0   9.0  15.0  18.0  15.0  18.0  \n",
       "3                     Monster Manual   NaN   NaN   NaN   NaN   NaN   NaN  \n",
       "4  Adventures (Tomb of Annihilation)   NaN   NaN   NaN   NaN   NaN   NaN  \n",
       "5               Monster Manual (SRD)  10.0  10.0  10.0  10.0  14.0  11.0  "
      ]
     },
     "execution_count": 3,
     "metadata": {},
     "output_type": "execute_result"
    }
   ],
   "source": [
    "dataset.head(6)"
   ]
  },
  {
   "cell_type": "code",
   "execution_count": 4,
   "id": "b2d62e85",
   "metadata": {},
   "outputs": [
    {
     "name": "stdout",
     "output_type": "stream",
     "text": [
      "<class 'pandas.core.frame.DataFrame'>\n",
      "RangeIndex: 762 entries, 0 to 761\n",
      "Data columns (total 17 columns):\n",
      " #   Column     Non-Null Count  Dtype  \n",
      "---  ------     --------------  -----  \n",
      " 0   name       762 non-null    object \n",
      " 1   url        401 non-null    object \n",
      " 2   cr         761 non-null    object \n",
      " 3   type       762 non-null    object \n",
      " 4   size       762 non-null    object \n",
      " 5   ac         762 non-null    int64  \n",
      " 6   hp         762 non-null    int64  \n",
      " 7   speed      248 non-null    object \n",
      " 8   align      762 non-null    object \n",
      " 9   legendary  43 non-null     object \n",
      " 10  source     762 non-null    object \n",
      " 11  str        401 non-null    float64\n",
      " 12  dex        401 non-null    float64\n",
      " 13  con        401 non-null    float64\n",
      " 14  int        401 non-null    float64\n",
      " 15  wis        401 non-null    float64\n",
      " 16  cha        401 non-null    float64\n",
      "dtypes: float64(6), int64(2), object(9)\n",
      "memory usage: 101.3+ KB\n"
     ]
    }
   ],
   "source": [
    "dataset.info()"
   ]
  },
  {
   "cell_type": "code",
   "execution_count": 5,
   "id": "7c7f9cb9",
   "metadata": {},
   "outputs": [
    {
     "data": {
      "text/plain": [
       "361"
      ]
     },
     "execution_count": 5,
     "metadata": {},
     "output_type": "execute_result"
    }
   ],
   "source": [
    "dataset['str'].isnull().sum()"
   ]
  },
  {
   "cell_type": "markdown",
   "id": "20c59292",
   "metadata": {},
   "source": [
    "dropping unnecesary columns"
   ]
  },
  {
   "cell_type": "code",
   "execution_count": 6,
   "id": "f04d5c79",
   "metadata": {},
   "outputs": [],
   "source": [
    "dataset.drop(['url','type'], \n",
    "        axis=1, \n",
    "        inplace=True)"
   ]
  },
  {
   "cell_type": "code",
   "execution_count": 7,
   "id": "6b3b66bd",
   "metadata": {},
   "outputs": [
    {
     "name": "stdout",
     "output_type": "stream",
     "text": [
      "<class 'pandas.core.frame.DataFrame'>\n",
      "RangeIndex: 762 entries, 0 to 761\n",
      "Data columns (total 15 columns):\n",
      " #   Column     Non-Null Count  Dtype  \n",
      "---  ------     --------------  -----  \n",
      " 0   name       762 non-null    object \n",
      " 1   cr         761 non-null    object \n",
      " 2   size       762 non-null    object \n",
      " 3   ac         762 non-null    int64  \n",
      " 4   hp         762 non-null    int64  \n",
      " 5   speed      248 non-null    object \n",
      " 6   align      762 non-null    object \n",
      " 7   legendary  43 non-null     object \n",
      " 8   source     762 non-null    object \n",
      " 9   str        401 non-null    float64\n",
      " 10  dex        401 non-null    float64\n",
      " 11  con        401 non-null    float64\n",
      " 12  int        401 non-null    float64\n",
      " 13  wis        401 non-null    float64\n",
      " 14  cha        401 non-null    float64\n",
      "dtypes: float64(6), int64(2), object(7)\n",
      "memory usage: 89.4+ KB\n"
     ]
    }
   ],
   "source": [
    "dataset.info()"
   ]
  },
  {
   "cell_type": "markdown",
   "id": "6ff977d7",
   "metadata": {},
   "source": [
    "filling in defalt values for speed and legendaries to fill in null values"
   ]
  },
  {
   "cell_type": "code",
   "execution_count": 8,
   "id": "48df6b0c",
   "metadata": {},
   "outputs": [],
   "source": [
    "dataset['speed'].fillna('normal', inplace=True)"
   ]
  },
  {
   "cell_type": "code",
   "execution_count": 9,
   "id": "72191022",
   "metadata": {},
   "outputs": [
    {
     "data": {
      "text/html": [
       "<div>\n",
       "<style scoped>\n",
       "    .dataframe tbody tr th:only-of-type {\n",
       "        vertical-align: middle;\n",
       "    }\n",
       "\n",
       "    .dataframe tbody tr th {\n",
       "        vertical-align: top;\n",
       "    }\n",
       "\n",
       "    .dataframe thead th {\n",
       "        text-align: right;\n",
       "    }\n",
       "</style>\n",
       "<table border=\"1\" class=\"dataframe\">\n",
       "  <thead>\n",
       "    <tr style=\"text-align: right;\">\n",
       "      <th></th>\n",
       "      <th>name</th>\n",
       "      <th>cr</th>\n",
       "      <th>size</th>\n",
       "      <th>ac</th>\n",
       "      <th>hp</th>\n",
       "      <th>speed</th>\n",
       "      <th>align</th>\n",
       "      <th>legendary</th>\n",
       "      <th>source</th>\n",
       "      <th>str</th>\n",
       "      <th>dex</th>\n",
       "      <th>con</th>\n",
       "      <th>int</th>\n",
       "      <th>wis</th>\n",
       "      <th>cha</th>\n",
       "    </tr>\n",
       "  </thead>\n",
       "  <tbody>\n",
       "    <tr>\n",
       "      <th>0</th>\n",
       "      <td>aarakocra</td>\n",
       "      <td>1/4</td>\n",
       "      <td>Medium</td>\n",
       "      <td>12</td>\n",
       "      <td>13</td>\n",
       "      <td>fly</td>\n",
       "      <td>neutral good</td>\n",
       "      <td>NaN</td>\n",
       "      <td>Monster Manual (BR)</td>\n",
       "      <td>10.0</td>\n",
       "      <td>14.0</td>\n",
       "      <td>10.0</td>\n",
       "      <td>11.0</td>\n",
       "      <td>12.0</td>\n",
       "      <td>11.0</td>\n",
       "    </tr>\n",
       "    <tr>\n",
       "      <th>1</th>\n",
       "      <td>abjurer</td>\n",
       "      <td>9</td>\n",
       "      <td>Medium</td>\n",
       "      <td>12</td>\n",
       "      <td>84</td>\n",
       "      <td>normal</td>\n",
       "      <td>any alignment</td>\n",
       "      <td>NaN</td>\n",
       "      <td>Volo's Guide to Monsters</td>\n",
       "      <td>NaN</td>\n",
       "      <td>NaN</td>\n",
       "      <td>NaN</td>\n",
       "      <td>NaN</td>\n",
       "      <td>NaN</td>\n",
       "      <td>NaN</td>\n",
       "    </tr>\n",
       "    <tr>\n",
       "      <th>2</th>\n",
       "      <td>aboleth</td>\n",
       "      <td>10</td>\n",
       "      <td>Large</td>\n",
       "      <td>17</td>\n",
       "      <td>135</td>\n",
       "      <td>swim</td>\n",
       "      <td>lawful evil</td>\n",
       "      <td>Legendary</td>\n",
       "      <td>Monster Manual (SRD)</td>\n",
       "      <td>21.0</td>\n",
       "      <td>9.0</td>\n",
       "      <td>15.0</td>\n",
       "      <td>18.0</td>\n",
       "      <td>15.0</td>\n",
       "      <td>18.0</td>\n",
       "    </tr>\n",
       "    <tr>\n",
       "      <th>3</th>\n",
       "      <td>abominable-yeti</td>\n",
       "      <td>9</td>\n",
       "      <td>Huge</td>\n",
       "      <td>15</td>\n",
       "      <td>137</td>\n",
       "      <td>normal</td>\n",
       "      <td>chaotic evil</td>\n",
       "      <td>NaN</td>\n",
       "      <td>Monster Manual</td>\n",
       "      <td>NaN</td>\n",
       "      <td>NaN</td>\n",
       "      <td>NaN</td>\n",
       "      <td>NaN</td>\n",
       "      <td>NaN</td>\n",
       "      <td>NaN</td>\n",
       "    </tr>\n",
       "    <tr>\n",
       "      <th>4</th>\n",
       "      <td>acererak</td>\n",
       "      <td>23</td>\n",
       "      <td>Medium</td>\n",
       "      <td>21</td>\n",
       "      <td>285</td>\n",
       "      <td>normal</td>\n",
       "      <td>neutral evil</td>\n",
       "      <td>NaN</td>\n",
       "      <td>Adventures (Tomb of Annihilation)</td>\n",
       "      <td>NaN</td>\n",
       "      <td>NaN</td>\n",
       "      <td>NaN</td>\n",
       "      <td>NaN</td>\n",
       "      <td>NaN</td>\n",
       "      <td>NaN</td>\n",
       "    </tr>\n",
       "  </tbody>\n",
       "</table>\n",
       "</div>"
      ],
      "text/plain": [
       "              name   cr    size  ac   hp   speed          align  legendary  \\\n",
       "0        aarakocra  1/4  Medium  12   13     fly   neutral good        NaN   \n",
       "1          abjurer    9  Medium  12   84  normal  any alignment        NaN   \n",
       "2          aboleth   10   Large  17  135    swim    lawful evil  Legendary   \n",
       "3  abominable-yeti    9    Huge  15  137  normal   chaotic evil        NaN   \n",
       "4         acererak   23  Medium  21  285  normal   neutral evil        NaN   \n",
       "\n",
       "                              source   str   dex   con   int   wis   cha  \n",
       "0                Monster Manual (BR)  10.0  14.0  10.0  11.0  12.0  11.0  \n",
       "1           Volo's Guide to Monsters   NaN   NaN   NaN   NaN   NaN   NaN  \n",
       "2               Monster Manual (SRD)  21.0   9.0  15.0  18.0  15.0  18.0  \n",
       "3                     Monster Manual   NaN   NaN   NaN   NaN   NaN   NaN  \n",
       "4  Adventures (Tomb of Annihilation)   NaN   NaN   NaN   NaN   NaN   NaN  "
      ]
     },
     "execution_count": 9,
     "metadata": {},
     "output_type": "execute_result"
    }
   ],
   "source": [
    "dataset.head()"
   ]
  },
  {
   "cell_type": "code",
   "execution_count": 10,
   "id": "dfc8f1ab",
   "metadata": {},
   "outputs": [],
   "source": [
    "dataset['legendary'].fillna('not legendary', inplace=True)"
   ]
  },
  {
   "cell_type": "code",
   "execution_count": 11,
   "id": "98edf61c",
   "metadata": {},
   "outputs": [
    {
     "data": {
      "text/html": [
       "<div>\n",
       "<style scoped>\n",
       "    .dataframe tbody tr th:only-of-type {\n",
       "        vertical-align: middle;\n",
       "    }\n",
       "\n",
       "    .dataframe tbody tr th {\n",
       "        vertical-align: top;\n",
       "    }\n",
       "\n",
       "    .dataframe thead th {\n",
       "        text-align: right;\n",
       "    }\n",
       "</style>\n",
       "<table border=\"1\" class=\"dataframe\">\n",
       "  <thead>\n",
       "    <tr style=\"text-align: right;\">\n",
       "      <th></th>\n",
       "      <th>name</th>\n",
       "      <th>cr</th>\n",
       "      <th>size</th>\n",
       "      <th>ac</th>\n",
       "      <th>hp</th>\n",
       "      <th>speed</th>\n",
       "      <th>align</th>\n",
       "      <th>legendary</th>\n",
       "      <th>source</th>\n",
       "      <th>str</th>\n",
       "      <th>dex</th>\n",
       "      <th>con</th>\n",
       "      <th>int</th>\n",
       "      <th>wis</th>\n",
       "      <th>cha</th>\n",
       "    </tr>\n",
       "  </thead>\n",
       "  <tbody>\n",
       "    <tr>\n",
       "      <th>0</th>\n",
       "      <td>aarakocra</td>\n",
       "      <td>1/4</td>\n",
       "      <td>Medium</td>\n",
       "      <td>12</td>\n",
       "      <td>13</td>\n",
       "      <td>fly</td>\n",
       "      <td>neutral good</td>\n",
       "      <td>not legendary</td>\n",
       "      <td>Monster Manual (BR)</td>\n",
       "      <td>10.0</td>\n",
       "      <td>14.0</td>\n",
       "      <td>10.0</td>\n",
       "      <td>11.0</td>\n",
       "      <td>12.0</td>\n",
       "      <td>11.0</td>\n",
       "    </tr>\n",
       "    <tr>\n",
       "      <th>1</th>\n",
       "      <td>abjurer</td>\n",
       "      <td>9</td>\n",
       "      <td>Medium</td>\n",
       "      <td>12</td>\n",
       "      <td>84</td>\n",
       "      <td>normal</td>\n",
       "      <td>any alignment</td>\n",
       "      <td>not legendary</td>\n",
       "      <td>Volo's Guide to Monsters</td>\n",
       "      <td>NaN</td>\n",
       "      <td>NaN</td>\n",
       "      <td>NaN</td>\n",
       "      <td>NaN</td>\n",
       "      <td>NaN</td>\n",
       "      <td>NaN</td>\n",
       "    </tr>\n",
       "    <tr>\n",
       "      <th>2</th>\n",
       "      <td>aboleth</td>\n",
       "      <td>10</td>\n",
       "      <td>Large</td>\n",
       "      <td>17</td>\n",
       "      <td>135</td>\n",
       "      <td>swim</td>\n",
       "      <td>lawful evil</td>\n",
       "      <td>Legendary</td>\n",
       "      <td>Monster Manual (SRD)</td>\n",
       "      <td>21.0</td>\n",
       "      <td>9.0</td>\n",
       "      <td>15.0</td>\n",
       "      <td>18.0</td>\n",
       "      <td>15.0</td>\n",
       "      <td>18.0</td>\n",
       "    </tr>\n",
       "    <tr>\n",
       "      <th>3</th>\n",
       "      <td>abominable-yeti</td>\n",
       "      <td>9</td>\n",
       "      <td>Huge</td>\n",
       "      <td>15</td>\n",
       "      <td>137</td>\n",
       "      <td>normal</td>\n",
       "      <td>chaotic evil</td>\n",
       "      <td>not legendary</td>\n",
       "      <td>Monster Manual</td>\n",
       "      <td>NaN</td>\n",
       "      <td>NaN</td>\n",
       "      <td>NaN</td>\n",
       "      <td>NaN</td>\n",
       "      <td>NaN</td>\n",
       "      <td>NaN</td>\n",
       "    </tr>\n",
       "    <tr>\n",
       "      <th>4</th>\n",
       "      <td>acererak</td>\n",
       "      <td>23</td>\n",
       "      <td>Medium</td>\n",
       "      <td>21</td>\n",
       "      <td>285</td>\n",
       "      <td>normal</td>\n",
       "      <td>neutral evil</td>\n",
       "      <td>not legendary</td>\n",
       "      <td>Adventures (Tomb of Annihilation)</td>\n",
       "      <td>NaN</td>\n",
       "      <td>NaN</td>\n",
       "      <td>NaN</td>\n",
       "      <td>NaN</td>\n",
       "      <td>NaN</td>\n",
       "      <td>NaN</td>\n",
       "    </tr>\n",
       "  </tbody>\n",
       "</table>\n",
       "</div>"
      ],
      "text/plain": [
       "              name   cr    size  ac   hp   speed          align  \\\n",
       "0        aarakocra  1/4  Medium  12   13     fly   neutral good   \n",
       "1          abjurer    9  Medium  12   84  normal  any alignment   \n",
       "2          aboleth   10   Large  17  135    swim    lawful evil   \n",
       "3  abominable-yeti    9    Huge  15  137  normal   chaotic evil   \n",
       "4         acererak   23  Medium  21  285  normal   neutral evil   \n",
       "\n",
       "       legendary                             source   str   dex   con   int  \\\n",
       "0  not legendary                Monster Manual (BR)  10.0  14.0  10.0  11.0   \n",
       "1  not legendary           Volo's Guide to Monsters   NaN   NaN   NaN   NaN   \n",
       "2      Legendary               Monster Manual (SRD)  21.0   9.0  15.0  18.0   \n",
       "3  not legendary                     Monster Manual   NaN   NaN   NaN   NaN   \n",
       "4  not legendary  Adventures (Tomb of Annihilation)   NaN   NaN   NaN   NaN   \n",
       "\n",
       "    wis   cha  \n",
       "0  12.0  11.0  \n",
       "1   NaN   NaN  \n",
       "2  15.0  18.0  \n",
       "3   NaN   NaN  \n",
       "4   NaN   NaN  "
      ]
     },
     "execution_count": 11,
     "metadata": {},
     "output_type": "execute_result"
    }
   ],
   "source": [
    "dataset.head()"
   ]
  },
  {
   "cell_type": "markdown",
   "id": "3c3ab771",
   "metadata": {},
   "source": [
    "dropping entries with missing stats"
   ]
  },
  {
   "cell_type": "code",
   "execution_count": 12,
   "id": "af0afb9f",
   "metadata": {},
   "outputs": [
    {
     "name": "stdout",
     "output_type": "stream",
     "text": [
      "<class 'pandas.core.frame.DataFrame'>\n",
      "Index: 401 entries, 0 to 760\n",
      "Data columns (total 15 columns):\n",
      " #   Column     Non-Null Count  Dtype  \n",
      "---  ------     --------------  -----  \n",
      " 0   name       401 non-null    object \n",
      " 1   cr         401 non-null    object \n",
      " 2   size       401 non-null    object \n",
      " 3   ac         401 non-null    int64  \n",
      " 4   hp         401 non-null    int64  \n",
      " 5   speed      401 non-null    object \n",
      " 6   align      401 non-null    object \n",
      " 7   legendary  401 non-null    object \n",
      " 8   source     401 non-null    object \n",
      " 9   str        401 non-null    float64\n",
      " 10  dex        401 non-null    float64\n",
      " 11  con        401 non-null    float64\n",
      " 12  int        401 non-null    float64\n",
      " 13  wis        401 non-null    float64\n",
      " 14  cha        401 non-null    float64\n",
      "dtypes: float64(6), int64(2), object(7)\n",
      "memory usage: 50.1+ KB\n"
     ]
    }
   ],
   "source": [
    "fd=dataset.dropna()\n",
    "fd.info()"
   ]
  },
  {
   "cell_type": "code",
   "execution_count": 13,
   "id": "f4f519c1",
   "metadata": {},
   "outputs": [
    {
     "data": {
      "text/html": [
       "<div>\n",
       "<style scoped>\n",
       "    .dataframe tbody tr th:only-of-type {\n",
       "        vertical-align: middle;\n",
       "    }\n",
       "\n",
       "    .dataframe tbody tr th {\n",
       "        vertical-align: top;\n",
       "    }\n",
       "\n",
       "    .dataframe thead th {\n",
       "        text-align: right;\n",
       "    }\n",
       "</style>\n",
       "<table border=\"1\" class=\"dataframe\">\n",
       "  <thead>\n",
       "    <tr style=\"text-align: right;\">\n",
       "      <th></th>\n",
       "      <th>name</th>\n",
       "      <th>cr</th>\n",
       "      <th>size</th>\n",
       "      <th>ac</th>\n",
       "      <th>hp</th>\n",
       "      <th>speed</th>\n",
       "      <th>align</th>\n",
       "      <th>legendary</th>\n",
       "      <th>source</th>\n",
       "      <th>str</th>\n",
       "      <th>dex</th>\n",
       "      <th>con</th>\n",
       "      <th>int</th>\n",
       "      <th>wis</th>\n",
       "      <th>cha</th>\n",
       "    </tr>\n",
       "  </thead>\n",
       "  <tbody>\n",
       "    <tr>\n",
       "      <th>0</th>\n",
       "      <td>aarakocra</td>\n",
       "      <td>1/4</td>\n",
       "      <td>Medium</td>\n",
       "      <td>12</td>\n",
       "      <td>13</td>\n",
       "      <td>fly</td>\n",
       "      <td>neutral good</td>\n",
       "      <td>not legendary</td>\n",
       "      <td>Monster Manual (BR)</td>\n",
       "      <td>10.0</td>\n",
       "      <td>14.0</td>\n",
       "      <td>10.0</td>\n",
       "      <td>11.0</td>\n",
       "      <td>12.0</td>\n",
       "      <td>11.0</td>\n",
       "    </tr>\n",
       "    <tr>\n",
       "      <th>2</th>\n",
       "      <td>aboleth</td>\n",
       "      <td>10</td>\n",
       "      <td>Large</td>\n",
       "      <td>17</td>\n",
       "      <td>135</td>\n",
       "      <td>swim</td>\n",
       "      <td>lawful evil</td>\n",
       "      <td>Legendary</td>\n",
       "      <td>Monster Manual (SRD)</td>\n",
       "      <td>21.0</td>\n",
       "      <td>9.0</td>\n",
       "      <td>15.0</td>\n",
       "      <td>18.0</td>\n",
       "      <td>15.0</td>\n",
       "      <td>18.0</td>\n",
       "    </tr>\n",
       "    <tr>\n",
       "      <th>5</th>\n",
       "      <td>acolyte</td>\n",
       "      <td>1/4</td>\n",
       "      <td>Medium</td>\n",
       "      <td>10</td>\n",
       "      <td>9</td>\n",
       "      <td>normal</td>\n",
       "      <td>any alignment</td>\n",
       "      <td>not legendary</td>\n",
       "      <td>Monster Manual (SRD)</td>\n",
       "      <td>10.0</td>\n",
       "      <td>10.0</td>\n",
       "      <td>10.0</td>\n",
       "      <td>10.0</td>\n",
       "      <td>14.0</td>\n",
       "      <td>11.0</td>\n",
       "    </tr>\n",
       "    <tr>\n",
       "      <th>6</th>\n",
       "      <td>adult-black-dragon</td>\n",
       "      <td>14</td>\n",
       "      <td>Huge</td>\n",
       "      <td>19</td>\n",
       "      <td>195</td>\n",
       "      <td>fly, swim</td>\n",
       "      <td>chaotic evil</td>\n",
       "      <td>Legendary</td>\n",
       "      <td>Monster Manual (SRD)</td>\n",
       "      <td>23.0</td>\n",
       "      <td>14.0</td>\n",
       "      <td>21.0</td>\n",
       "      <td>14.0</td>\n",
       "      <td>13.0</td>\n",
       "      <td>17.0</td>\n",
       "    </tr>\n",
       "    <tr>\n",
       "      <th>8</th>\n",
       "      <td>adult-blue-dragon</td>\n",
       "      <td>16</td>\n",
       "      <td>Huge</td>\n",
       "      <td>19</td>\n",
       "      <td>225</td>\n",
       "      <td>fly</td>\n",
       "      <td>lawful evil</td>\n",
       "      <td>Legendary</td>\n",
       "      <td>Monster Manual (SRD)</td>\n",
       "      <td>25.0</td>\n",
       "      <td>10.0</td>\n",
       "      <td>23.0</td>\n",
       "      <td>16.0</td>\n",
       "      <td>15.0</td>\n",
       "      <td>19.0</td>\n",
       "    </tr>\n",
       "  </tbody>\n",
       "</table>\n",
       "</div>"
      ],
      "text/plain": [
       "                 name   cr    size  ac   hp      speed          align  \\\n",
       "0           aarakocra  1/4  Medium  12   13        fly   neutral good   \n",
       "2             aboleth   10   Large  17  135       swim    lawful evil   \n",
       "5             acolyte  1/4  Medium  10    9     normal  any alignment   \n",
       "6  adult-black-dragon   14    Huge  19  195  fly, swim   chaotic evil   \n",
       "8   adult-blue-dragon   16    Huge  19  225        fly    lawful evil   \n",
       "\n",
       "       legendary                source   str   dex   con   int   wis   cha  \n",
       "0  not legendary   Monster Manual (BR)  10.0  14.0  10.0  11.0  12.0  11.0  \n",
       "2      Legendary  Monster Manual (SRD)  21.0   9.0  15.0  18.0  15.0  18.0  \n",
       "5  not legendary  Monster Manual (SRD)  10.0  10.0  10.0  10.0  14.0  11.0  \n",
       "6      Legendary  Monster Manual (SRD)  23.0  14.0  21.0  14.0  13.0  17.0  \n",
       "8      Legendary  Monster Manual (SRD)  25.0  10.0  23.0  16.0  15.0  19.0  "
      ]
     },
     "execution_count": 13,
     "metadata": {},
     "output_type": "execute_result"
    }
   ],
   "source": [
    "fd.head()"
   ]
  },
  {
   "cell_type": "code",
   "execution_count": 14,
   "id": "b9654168",
   "metadata": {
    "scrolled": true
   },
   "outputs": [
    {
     "data": {
      "text/html": [
       "<div>\n",
       "<style scoped>\n",
       "    .dataframe tbody tr th:only-of-type {\n",
       "        vertical-align: middle;\n",
       "    }\n",
       "\n",
       "    .dataframe tbody tr th {\n",
       "        vertical-align: top;\n",
       "    }\n",
       "\n",
       "    .dataframe thead th {\n",
       "        text-align: right;\n",
       "    }\n",
       "</style>\n",
       "<table border=\"1\" class=\"dataframe\">\n",
       "  <thead>\n",
       "    <tr style=\"text-align: right;\">\n",
       "      <th></th>\n",
       "      <th>ac</th>\n",
       "      <th>hp</th>\n",
       "      <th>str</th>\n",
       "      <th>dex</th>\n",
       "      <th>con</th>\n",
       "      <th>int</th>\n",
       "      <th>wis</th>\n",
       "      <th>cha</th>\n",
       "    </tr>\n",
       "  </thead>\n",
       "  <tbody>\n",
       "    <tr>\n",
       "      <th>count</th>\n",
       "      <td>401.000000</td>\n",
       "      <td>401.000000</td>\n",
       "      <td>401.000000</td>\n",
       "      <td>401.000000</td>\n",
       "      <td>401.000000</td>\n",
       "      <td>401.000000</td>\n",
       "      <td>401.000000</td>\n",
       "      <td>401.000000</td>\n",
       "    </tr>\n",
       "    <tr>\n",
       "      <th>mean</th>\n",
       "      <td>14.109726</td>\n",
       "      <td>81.463840</td>\n",
       "      <td>15.231920</td>\n",
       "      <td>12.745636</td>\n",
       "      <td>15.147132</td>\n",
       "      <td>8.324190</td>\n",
       "      <td>11.820449</td>\n",
       "      <td>10.097257</td>\n",
       "    </tr>\n",
       "    <tr>\n",
       "      <th>std</th>\n",
       "      <td>3.165111</td>\n",
       "      <td>98.069768</td>\n",
       "      <td>6.492964</td>\n",
       "      <td>3.183573</td>\n",
       "      <td>4.383012</td>\n",
       "      <td>5.694264</td>\n",
       "      <td>3.093167</td>\n",
       "      <td>5.696755</td>\n",
       "    </tr>\n",
       "    <tr>\n",
       "      <th>min</th>\n",
       "      <td>5.000000</td>\n",
       "      <td>1.000000</td>\n",
       "      <td>1.000000</td>\n",
       "      <td>1.000000</td>\n",
       "      <td>8.000000</td>\n",
       "      <td>1.000000</td>\n",
       "      <td>2.000000</td>\n",
       "      <td>1.000000</td>\n",
       "    </tr>\n",
       "    <tr>\n",
       "      <th>25%</th>\n",
       "      <td>12.000000</td>\n",
       "      <td>19.000000</td>\n",
       "      <td>11.000000</td>\n",
       "      <td>10.000000</td>\n",
       "      <td>12.000000</td>\n",
       "      <td>3.000000</td>\n",
       "      <td>10.000000</td>\n",
       "      <td>6.000000</td>\n",
       "    </tr>\n",
       "    <tr>\n",
       "      <th>50%</th>\n",
       "      <td>13.000000</td>\n",
       "      <td>45.000000</td>\n",
       "      <td>16.000000</td>\n",
       "      <td>13.000000</td>\n",
       "      <td>14.000000</td>\n",
       "      <td>8.000000</td>\n",
       "      <td>12.000000</td>\n",
       "      <td>9.000000</td>\n",
       "    </tr>\n",
       "    <tr>\n",
       "      <th>75%</th>\n",
       "      <td>17.000000</td>\n",
       "      <td>112.000000</td>\n",
       "      <td>19.000000</td>\n",
       "      <td>15.000000</td>\n",
       "      <td>17.000000</td>\n",
       "      <td>12.000000</td>\n",
       "      <td>13.000000</td>\n",
       "      <td>14.000000</td>\n",
       "    </tr>\n",
       "    <tr>\n",
       "      <th>max</th>\n",
       "      <td>25.000000</td>\n",
       "      <td>676.000000</td>\n",
       "      <td>30.000000</td>\n",
       "      <td>28.000000</td>\n",
       "      <td>30.000000</td>\n",
       "      <td>26.000000</td>\n",
       "      <td>27.000000</td>\n",
       "      <td>30.000000</td>\n",
       "    </tr>\n",
       "  </tbody>\n",
       "</table>\n",
       "</div>"
      ],
      "text/plain": [
       "               ac          hp         str         dex         con         int  \\\n",
       "count  401.000000  401.000000  401.000000  401.000000  401.000000  401.000000   \n",
       "mean    14.109726   81.463840   15.231920   12.745636   15.147132    8.324190   \n",
       "std      3.165111   98.069768    6.492964    3.183573    4.383012    5.694264   \n",
       "min      5.000000    1.000000    1.000000    1.000000    8.000000    1.000000   \n",
       "25%     12.000000   19.000000   11.000000   10.000000   12.000000    3.000000   \n",
       "50%     13.000000   45.000000   16.000000   13.000000   14.000000    8.000000   \n",
       "75%     17.000000  112.000000   19.000000   15.000000   17.000000   12.000000   \n",
       "max     25.000000  676.000000   30.000000   28.000000   30.000000   26.000000   \n",
       "\n",
       "              wis         cha  \n",
       "count  401.000000  401.000000  \n",
       "mean    11.820449   10.097257  \n",
       "std      3.093167    5.696755  \n",
       "min      2.000000    1.000000  \n",
       "25%     10.000000    6.000000  \n",
       "50%     12.000000    9.000000  \n",
       "75%     13.000000   14.000000  \n",
       "max     27.000000   30.000000  "
      ]
     },
     "execution_count": 14,
     "metadata": {},
     "output_type": "execute_result"
    }
   ],
   "source": [
    "fd.describe()"
   ]
  },
  {
   "cell_type": "code",
   "execution_count": 15,
   "id": "e1eebdca",
   "metadata": {},
   "outputs": [
    {
     "data": {
      "text/plain": [
       "speed\n",
       "normal       229\n",
       "fly          101\n",
       "swim          49\n",
       "fly, swim     22\n",
       "Name: count, dtype: int64"
      ]
     },
     "execution_count": 15,
     "metadata": {},
     "output_type": "execute_result"
    }
   ],
   "source": [
    "fd['speed'].value_counts()"
   ]
  },
  {
   "cell_type": "code",
   "execution_count": 16,
   "id": "7fc10110",
   "metadata": {},
   "outputs": [
    {
     "data": {
      "text/plain": [
       "align\n",
       "unaligned                   137\n",
       "chaotic evil                 66\n",
       "neutral evil                 50\n",
       "lawful evil                  46\n",
       "neutral                      27\n",
       "lawful good                  19\n",
       "any alignment                16\n",
       "chaotic good                 13\n",
       "neutral good                  7\n",
       "chaotic neutral               6\n",
       "lawful neutral                4\n",
       "any non-good alignment        4\n",
       "any non-lawful alignment      2\n",
       "any chaotic alignment         2\n",
       "neutral good                  1\n",
       "any evil alignment            1\n",
       "Name: count, dtype: int64"
      ]
     },
     "execution_count": 16,
     "metadata": {},
     "output_type": "execute_result"
    }
   ],
   "source": [
    "fd['align'].value_counts()"
   ]
  },
  {
   "cell_type": "code",
   "execution_count": 17,
   "id": "8ec00049",
   "metadata": {},
   "outputs": [
    {
     "data": {
      "text/plain": [
       "size\n",
       "Medium        169\n",
       "Large         123\n",
       "Huge           40\n",
       "Small          27\n",
       "Tiny           26\n",
       "Gargantuan     16\n",
       "Name: count, dtype: int64"
      ]
     },
     "execution_count": 17,
     "metadata": {},
     "output_type": "execute_result"
    }
   ],
   "source": [
    "fd['size'].value_counts()"
   ]
  },
  {
   "cell_type": "code",
   "execution_count": 18,
   "id": "9afdae49",
   "metadata": {},
   "outputs": [
    {
     "data": {
      "text/plain": [
       "cr\n",
       "2      52\n",
       "1/4    44\n",
       "1/2    34\n",
       "1      32\n",
       "5      31\n",
       "0      30\n",
       "3      29\n",
       "1/8    21\n",
       "4      18\n",
       "6      15\n",
       "9      11\n",
       "8      10\n",
       "7       9\n",
       "11      8\n",
       "10      8\n",
       "13      7\n",
       "21      6\n",
       "16      5\n",
       "17      5\n",
       "15      4\n",
       "20      4\n",
       "14      4\n",
       "23      3\n",
       "26      2\n",
       "12      2\n",
       "24      2\n",
       "22      2\n",
       "19      1\n",
       "18      1\n",
       "30      1\n",
       "Name: count, dtype: int64"
      ]
     },
     "execution_count": 18,
     "metadata": {},
     "output_type": "execute_result"
    }
   ],
   "source": [
    "fd['cr'].value_counts()"
   ]
  },
  {
   "cell_type": "code",
   "execution_count": 19,
   "id": "557f0bd2",
   "metadata": {},
   "outputs": [
    {
     "name": "stdout",
     "output_type": "stream",
     "text": [
      "<class 'pandas.core.frame.DataFrame'>\n",
      "Index: 401 entries, 0 to 760\n",
      "Data columns (total 15 columns):\n",
      " #   Column     Non-Null Count  Dtype  \n",
      "---  ------     --------------  -----  \n",
      " 0   name       401 non-null    object \n",
      " 1   cr         401 non-null    object \n",
      " 2   size       401 non-null    object \n",
      " 3   ac         401 non-null    int64  \n",
      " 4   hp         401 non-null    int64  \n",
      " 5   speed      401 non-null    object \n",
      " 6   align      401 non-null    object \n",
      " 7   legendary  401 non-null    object \n",
      " 8   source     401 non-null    object \n",
      " 9   str        401 non-null    float64\n",
      " 10  dex        401 non-null    float64\n",
      " 11  con        401 non-null    float64\n",
      " 12  int        401 non-null    float64\n",
      " 13  wis        401 non-null    float64\n",
      " 14  cha        401 non-null    float64\n",
      "dtypes: float64(6), int64(2), object(7)\n",
      "memory usage: 50.1+ KB\n"
     ]
    }
   ],
   "source": [
    "fd.info()"
   ]
  },
  {
   "cell_type": "markdown",
   "id": "f6bb18d4",
   "metadata": {},
   "source": [
    "converting cr column into float type"
   ]
  },
  {
   "cell_type": "code",
   "execution_count": 20,
   "id": "746cf39d",
   "metadata": {},
   "outputs": [
    {
     "data": {
      "text/plain": [
       "cr\n",
       "2      52\n",
       "1/4    44\n",
       "1/2    34\n",
       "1      32\n",
       "5      31\n",
       "0      30\n",
       "3      29\n",
       "1/8    21\n",
       "4      18\n",
       "6      15\n",
       "9      11\n",
       "8      10\n",
       "7       9\n",
       "11      8\n",
       "10      8\n",
       "13      7\n",
       "21      6\n",
       "16      5\n",
       "17      5\n",
       "15      4\n",
       "20      4\n",
       "14      4\n",
       "23      3\n",
       "26      2\n",
       "12      2\n",
       "24      2\n",
       "22      2\n",
       "19      1\n",
       "18      1\n",
       "30      1\n",
       "Name: count, dtype: int64"
      ]
     },
     "execution_count": 20,
     "metadata": {},
     "output_type": "execute_result"
    }
   ],
   "source": [
    "fd['cr'].value_counts()"
   ]
  },
  {
   "cell_type": "markdown",
   "id": "97b8eca7",
   "metadata": {},
   "source": [
    "fraction_str2 = '3/2'\n",
    "float_result2 = float(Fraction(fraction_str2))\n",
    "float_result2\n",
    "type(float_result2)"
   ]
  },
  {
   "cell_type": "code",
   "execution_count": 21,
   "id": "6a2a3a9a",
   "metadata": {},
   "outputs": [],
   "source": [
    "fd=fd.copy()"
   ]
  },
  {
   "cell_type": "code",
   "execution_count": 22,
   "id": "3f3ed2ef",
   "metadata": {},
   "outputs": [],
   "source": [
    "fd['cr'] = fd['cr'].apply(lambda x: float(Fraction(x)))"
   ]
  },
  {
   "cell_type": "code",
   "execution_count": 23,
   "id": "b0e51f62",
   "metadata": {},
   "outputs": [
    {
     "name": "stdout",
     "output_type": "stream",
     "text": [
      "<class 'pandas.core.frame.DataFrame'>\n",
      "Index: 401 entries, 0 to 760\n",
      "Data columns (total 15 columns):\n",
      " #   Column     Non-Null Count  Dtype  \n",
      "---  ------     --------------  -----  \n",
      " 0   name       401 non-null    object \n",
      " 1   cr         401 non-null    float64\n",
      " 2   size       401 non-null    object \n",
      " 3   ac         401 non-null    int64  \n",
      " 4   hp         401 non-null    int64  \n",
      " 5   speed      401 non-null    object \n",
      " 6   align      401 non-null    object \n",
      " 7   legendary  401 non-null    object \n",
      " 8   source     401 non-null    object \n",
      " 9   str        401 non-null    float64\n",
      " 10  dex        401 non-null    float64\n",
      " 11  con        401 non-null    float64\n",
      " 12  int        401 non-null    float64\n",
      " 13  wis        401 non-null    float64\n",
      " 14  cha        401 non-null    float64\n",
      "dtypes: float64(7), int64(2), object(6)\n",
      "memory usage: 50.1+ KB\n"
     ]
    }
   ],
   "source": [
    "fd.info()"
   ]
  },
  {
   "cell_type": "code",
   "execution_count": 24,
   "id": "b3444ba0",
   "metadata": {},
   "outputs": [
    {
     "data": {
      "text/plain": [
       "4.644950124688279"
      ]
     },
     "execution_count": 24,
     "metadata": {},
     "output_type": "execute_result"
    }
   ],
   "source": [
    "fd['cr'].mean()"
   ]
  },
  {
   "cell_type": "markdown",
   "id": "39c95f5a",
   "metadata": {},
   "source": [
    "visually analysing the dataset"
   ]
  },
  {
   "cell_type": "code",
   "execution_count": 25,
   "id": "319202df",
   "metadata": {},
   "outputs": [
    {
     "data": {
      "image/png": "[encoded data removed]",
      "text/plain": [
       "<Figure size 640x480 with 1 Axes>"
      ]
     },
     "metadata": {},
     "output_type": "display_data"
    }
   ],
   "source": [
    "plt.scatter(fd['ac'],\n",
    "            fd['cr'])\n",
    "plt.xlabel(\"combat rating\")\n",
    "plt.ylabel(\"armor class\")\n",
    "plt.show()"
   ]
  },
  {
   "cell_type": "code",
   "execution_count": 26,
   "id": "7924d833",
   "metadata": {},
   "outputs": [
    {
     "name": "stdout",
     "output_type": "stream",
     "text": [
      "           cr        ac        hp       str       dex       con       int  \\\n",
      "cr   1.000000  0.745623  0.939353  0.689633  0.015118  0.849184  0.631230   \n",
      "ac   0.745623  1.000000  0.704310  0.589242  0.212426  0.686334  0.598366   \n",
      "hp   0.939353  0.704310  1.000000  0.729654 -0.037904  0.871122  0.528713   \n",
      "str  0.689633  0.589242  0.729654  1.000000 -0.192704  0.837820  0.345380   \n",
      "dex  0.015118  0.212426 -0.037904 -0.192704  1.000000 -0.156051  0.248794   \n",
      "con  0.849184  0.686334  0.871122  0.837820 -0.156051  1.000000  0.480193   \n",
      "int  0.631230  0.598366  0.528713  0.345380  0.248794  0.480193  1.000000   \n",
      "wis  0.584899  0.498176  0.499466  0.372775  0.343922  0.451155  0.649557   \n",
      "cha  0.708334  0.642748  0.625515  0.461420  0.235432  0.583351  0.899798   \n",
      "\n",
      "          wis       cha  \n",
      "cr   0.584899  0.708334  \n",
      "ac   0.498176  0.642748  \n",
      "hp   0.499466  0.625515  \n",
      "str  0.372775  0.461420  \n",
      "dex  0.343922  0.235432  \n",
      "con  0.451155  0.583351  \n",
      "int  0.649557  0.899798  \n",
      "wis  1.000000  0.725555  \n",
      "cha  0.725555  1.000000  \n"
     ]
    }
   ],
   "source": [
    "corr=fd[['cr','ac','hp','str','dex','con','int','wis','cha']].corr()\n",
    "print(corr)"
   ]
  },
  {
   "cell_type": "code",
   "execution_count": 27,
   "id": "3fb168a6",
   "metadata": {},
   "outputs": [
    {
     "data": {
      "image/png": "[encoded data removed]",
      "text/plain": [
       "<Figure size 1000x900 with 2 Axes>"
      ]
     },
     "metadata": {},
     "output_type": "display_data"
    }
   ],
   "source": [
    "sns.set(rc = {'figure.figsize': (10, 9)})\n",
    "sns.heatmap(corr, annot = True)\n",
    "plt.show()"
   ]
  },
  {
   "cell_type": "code",
   "execution_count": 28,
   "id": "e21e3fda",
   "metadata": {},
   "outputs": [
    {
     "name": "stderr",
     "output_type": "stream",
     "text": [
      "C:\\Users\\gavin\\AppData\\Local\\Temp\\ipykernel_16088\\3386933817.py:2: FutureWarning: \n",
      "\n",
      "The `ci` parameter is deprecated. Use `errorbar=None` for the same effect.\n",
      "\n",
      "  sns.lineplot(x = 'con', y = 'cr', ci = None, data = fd)\n"
     ]
    },
    {
     "data": {
      "image/png": "[encoded data removed]",
      "text/plain": [
       "<Figure size 1400x1000 with 1 Axes>"
      ]
     },
     "metadata": {},
     "output_type": "display_data"
    }
   ],
   "source": [
    "sns.set(rc = {'figure.figsize': (14, 10)})\n",
    "sns.lineplot(x = 'con', y = 'cr', ci = None, data = fd)\n",
    "plt.show()"
   ]
  },
  {
   "cell_type": "code",
   "execution_count": 29,
   "id": "698229ba",
   "metadata": {},
   "outputs": [
    {
     "name": "stderr",
     "output_type": "stream",
     "text": [
      "C:\\Users\\gavin\\AppData\\Local\\Temp\\ipykernel_16088\\2802165330.py:2: FutureWarning: \n",
      "\n",
      "The `ci` parameter is deprecated. Use `errorbar=None` for the same effect.\n",
      "\n",
      "  sns.lineplot(x = 'str', y = 'cr', ci = None, data = fd)\n"
     ]
    },
    {
     "data": {
      "image/png": "[encoded data removed]",
      "text/plain": [
       "<Figure size 1400x1000 with 1 Axes>"
      ]
     },
     "metadata": {},
     "output_type": "display_data"
    }
   ],
   "source": [
    "sns.set(rc = {'figure.figsize': (14, 10)})\n",
    "sns.lineplot(x = 'str', y = 'cr', ci = None, data = fd)\n",
    "plt.show()"
   ]
  },
  {
   "cell_type": "code",
   "execution_count": 30,
   "id": "508fb113",
   "metadata": {},
   "outputs": [
    {
     "name": "stderr",
     "output_type": "stream",
     "text": [
      "C:\\Users\\gavin\\AppData\\Local\\Temp\\ipykernel_16088\\118935724.py:2: FutureWarning: \n",
      "\n",
      "The `ci` parameter is deprecated. Use `errorbar=None` for the same effect.\n",
      "\n",
      "  sns.lineplot(x = 'cha', y = 'cr', ci = None, data = fd)\n"
     ]
    },
    {
     "data": {
      "image/png": "[encoded data removed]",
      "text/plain": [
       "<Figure size 1400x1000 with 1 Axes>"
      ]
     },
     "metadata": {},
     "output_type": "display_data"
    }
   ],
   "source": [
    "sns.set(rc = {'figure.figsize': (14, 10)})\n",
    "sns.lineplot(x = 'cha', y = 'cr', ci = None, data = fd)\n",
    "plt.show()"
   ]
  },
  {
   "cell_type": "code",
   "execution_count": 31,
   "id": "32277bc1",
   "metadata": {},
   "outputs": [
    {
     "data": {
      "image/png": "[encoded data removed]",
      "text/plain": [
       "<Figure size 1400x1000 with 1 Axes>"
      ]
     },
     "metadata": {},
     "output_type": "display_data"
    }
   ],
   "source": [
    "fd['source'].value_counts().plot(kind = 'pie')\n",
    "plt.show()"
   ]
  },
  {
   "cell_type": "markdown",
   "id": "eba58ef1",
   "metadata": {},
   "source": [
    "spliting dataset into independent and dependent variables"
   ]
  },
  {
   "cell_type": "code",
   "execution_count": 32,
   "id": "f5b3bda9",
   "metadata": {},
   "outputs": [],
   "source": [
    "y=fd[['cr']]"
   ]
  },
  {
   "cell_type": "code",
   "execution_count": 33,
   "id": "d22e8919",
   "metadata": {},
   "outputs": [],
   "source": [
    "X=fd[['ac','hp','size','speed','legendary','source','str','dex','con','int','wis','cha']]"
   ]
  },
  {
   "cell_type": "code",
   "execution_count": 34,
   "id": "a7ef98e1",
   "metadata": {},
   "outputs": [
    {
     "data": {
      "text/html": [
       "<div>\n",
       "<style scoped>\n",
       "    .dataframe tbody tr th:only-of-type {\n",
       "        vertical-align: middle;\n",
       "    }\n",
       "\n",
       "    .dataframe tbody tr th {\n",
       "        vertical-align: top;\n",
       "    }\n",
       "\n",
       "    .dataframe thead th {\n",
       "        text-align: right;\n",
       "    }\n",
       "</style>\n",
       "<table border=\"1\" class=\"dataframe\">\n",
       "  <thead>\n",
       "    <tr style=\"text-align: right;\">\n",
       "      <th></th>\n",
       "      <th>ac</th>\n",
       "      <th>hp</th>\n",
       "      <th>size</th>\n",
       "      <th>speed</th>\n",
       "      <th>legendary</th>\n",
       "      <th>source</th>\n",
       "      <th>str</th>\n",
       "      <th>dex</th>\n",
       "      <th>con</th>\n",
       "      <th>int</th>\n",
       "      <th>wis</th>\n",
       "      <th>cha</th>\n",
       "    </tr>\n",
       "  </thead>\n",
       "  <tbody>\n",
       "    <tr>\n",
       "      <th>351</th>\n",
       "      <td>11</td>\n",
       "      <td>38</td>\n",
       "      <td>Medium</td>\n",
       "      <td>fly</td>\n",
       "      <td>not legendary</td>\n",
       "      <td>Monster Manual (SRD)</td>\n",
       "      <td>12.0</td>\n",
       "      <td>13.0</td>\n",
       "      <td>12.0</td>\n",
       "      <td>7.0</td>\n",
       "      <td>10.0</td>\n",
       "      <td>13.0</td>\n",
       "    </tr>\n",
       "  </tbody>\n",
       "</table>\n",
       "</div>"
      ],
      "text/plain": [
       "     ac  hp    size speed      legendary                source   str   dex  \\\n",
       "351  11  38  Medium   fly  not legendary  Monster Manual (SRD)  12.0  13.0   \n",
       "\n",
       "      con  int   wis   cha  \n",
       "351  12.0  7.0  10.0  13.0  "
      ]
     },
     "execution_count": 34,
     "metadata": {},
     "output_type": "execute_result"
    }
   ],
   "source": [
    "X.sample()"
   ]
  },
  {
   "cell_type": "code",
   "execution_count": 35,
   "id": "43566a3a",
   "metadata": {},
   "outputs": [
    {
     "name": "stdout",
     "output_type": "stream",
     "text": [
      "<class 'pandas.core.frame.DataFrame'>\n",
      "Index: 401 entries, 0 to 760\n",
      "Data columns (total 12 columns):\n",
      " #   Column     Non-Null Count  Dtype  \n",
      "---  ------     --------------  -----  \n",
      " 0   ac         401 non-null    int64  \n",
      " 1   hp         401 non-null    int64  \n",
      " 2   size       401 non-null    object \n",
      " 3   speed      401 non-null    object \n",
      " 4   legendary  401 non-null    object \n",
      " 5   source     401 non-null    object \n",
      " 6   str        401 non-null    float64\n",
      " 7   dex        401 non-null    float64\n",
      " 8   con        401 non-null    float64\n",
      " 9   int        401 non-null    float64\n",
      " 10  wis        401 non-null    float64\n",
      " 11  cha        401 non-null    float64\n",
      "dtypes: float64(6), int64(2), object(4)\n",
      "memory usage: 40.7+ KB\n"
     ]
    }
   ],
   "source": [
    "X.info()"
   ]
  },
  {
   "cell_type": "markdown",
   "id": "57a4ff9c",
   "metadata": {},
   "source": [
    "encoding the categorical varaibles"
   ]
  },
  {
   "cell_type": "code",
   "execution_count": 36,
   "id": "1d11361a",
   "metadata": {},
   "outputs": [
    {
     "data": {
      "text/html": [
       "<div>\n",
       "<style scoped>\n",
       "    .dataframe tbody tr th:only-of-type {\n",
       "        vertical-align: middle;\n",
       "    }\n",
       "\n",
       "    .dataframe tbody tr th {\n",
       "        vertical-align: top;\n",
       "    }\n",
       "\n",
       "    .dataframe thead th {\n",
       "        text-align: right;\n",
       "    }\n",
       "</style>\n",
       "<table border=\"1\" class=\"dataframe\">\n",
       "  <thead>\n",
       "    <tr style=\"text-align: right;\">\n",
       "      <th></th>\n",
       "      <th>name</th>\n",
       "      <th>cr</th>\n",
       "      <th>size</th>\n",
       "      <th>ac</th>\n",
       "      <th>hp</th>\n",
       "      <th>speed</th>\n",
       "      <th>align</th>\n",
       "      <th>legendary</th>\n",
       "      <th>source</th>\n",
       "      <th>str</th>\n",
       "      <th>dex</th>\n",
       "      <th>con</th>\n",
       "      <th>int</th>\n",
       "      <th>wis</th>\n",
       "      <th>cha</th>\n",
       "    </tr>\n",
       "  </thead>\n",
       "  <tbody>\n",
       "    <tr>\n",
       "      <th>0</th>\n",
       "      <td>aarakocra</td>\n",
       "      <td>0.25</td>\n",
       "      <td>Medium</td>\n",
       "      <td>12</td>\n",
       "      <td>13</td>\n",
       "      <td>fly</td>\n",
       "      <td>neutral good</td>\n",
       "      <td>not legendary</td>\n",
       "      <td>Monster Manual (BR)</td>\n",
       "      <td>10.0</td>\n",
       "      <td>14.0</td>\n",
       "      <td>10.0</td>\n",
       "      <td>11.0</td>\n",
       "      <td>12.0</td>\n",
       "      <td>11.0</td>\n",
       "    </tr>\n",
       "    <tr>\n",
       "      <th>2</th>\n",
       "      <td>aboleth</td>\n",
       "      <td>10.00</td>\n",
       "      <td>Large</td>\n",
       "      <td>17</td>\n",
       "      <td>135</td>\n",
       "      <td>swim</td>\n",
       "      <td>lawful evil</td>\n",
       "      <td>Legendary</td>\n",
       "      <td>Monster Manual (SRD)</td>\n",
       "      <td>21.0</td>\n",
       "      <td>9.0</td>\n",
       "      <td>15.0</td>\n",
       "      <td>18.0</td>\n",
       "      <td>15.0</td>\n",
       "      <td>18.0</td>\n",
       "    </tr>\n",
       "    <tr>\n",
       "      <th>5</th>\n",
       "      <td>acolyte</td>\n",
       "      <td>0.25</td>\n",
       "      <td>Medium</td>\n",
       "      <td>10</td>\n",
       "      <td>9</td>\n",
       "      <td>normal</td>\n",
       "      <td>any alignment</td>\n",
       "      <td>not legendary</td>\n",
       "      <td>Monster Manual (SRD)</td>\n",
       "      <td>10.0</td>\n",
       "      <td>10.0</td>\n",
       "      <td>10.0</td>\n",
       "      <td>10.0</td>\n",
       "      <td>14.0</td>\n",
       "      <td>11.0</td>\n",
       "    </tr>\n",
       "    <tr>\n",
       "      <th>6</th>\n",
       "      <td>adult-black-dragon</td>\n",
       "      <td>14.00</td>\n",
       "      <td>Huge</td>\n",
       "      <td>19</td>\n",
       "      <td>195</td>\n",
       "      <td>fly, swim</td>\n",
       "      <td>chaotic evil</td>\n",
       "      <td>Legendary</td>\n",
       "      <td>Monster Manual (SRD)</td>\n",
       "      <td>23.0</td>\n",
       "      <td>14.0</td>\n",
       "      <td>21.0</td>\n",
       "      <td>14.0</td>\n",
       "      <td>13.0</td>\n",
       "      <td>17.0</td>\n",
       "    </tr>\n",
       "    <tr>\n",
       "      <th>8</th>\n",
       "      <td>adult-blue-dragon</td>\n",
       "      <td>16.00</td>\n",
       "      <td>Huge</td>\n",
       "      <td>19</td>\n",
       "      <td>225</td>\n",
       "      <td>fly</td>\n",
       "      <td>lawful evil</td>\n",
       "      <td>Legendary</td>\n",
       "      <td>Monster Manual (SRD)</td>\n",
       "      <td>25.0</td>\n",
       "      <td>10.0</td>\n",
       "      <td>23.0</td>\n",
       "      <td>16.0</td>\n",
       "      <td>15.0</td>\n",
       "      <td>19.0</td>\n",
       "    </tr>\n",
       "  </tbody>\n",
       "</table>\n",
       "</div>"
      ],
      "text/plain": [
       "                 name     cr    size  ac   hp      speed          align  \\\n",
       "0           aarakocra   0.25  Medium  12   13        fly   neutral good   \n",
       "2             aboleth  10.00   Large  17  135       swim    lawful evil   \n",
       "5             acolyte   0.25  Medium  10    9     normal  any alignment   \n",
       "6  adult-black-dragon  14.00    Huge  19  195  fly, swim   chaotic evil   \n",
       "8   adult-blue-dragon  16.00    Huge  19  225        fly    lawful evil   \n",
       "\n",
       "       legendary                source   str   dex   con   int   wis   cha  \n",
       "0  not legendary   Monster Manual (BR)  10.0  14.0  10.0  11.0  12.0  11.0  \n",
       "2      Legendary  Monster Manual (SRD)  21.0   9.0  15.0  18.0  15.0  18.0  \n",
       "5  not legendary  Monster Manual (SRD)  10.0  10.0  10.0  10.0  14.0  11.0  \n",
       "6      Legendary  Monster Manual (SRD)  23.0  14.0  21.0  14.0  13.0  17.0  \n",
       "8      Legendary  Monster Manual (SRD)  25.0  10.0  23.0  16.0  15.0  19.0  "
      ]
     },
     "execution_count": 36,
     "metadata": {},
     "output_type": "execute_result"
    }
   ],
   "source": [
    "X=pd.get_dummies(X, dtype=int, columns=['size'])\n",
    "fd.head()"
   ]
  },
  {
   "cell_type": "code",
   "execution_count": 37,
   "id": "d7a27fa0",
   "metadata": {},
   "outputs": [
    {
     "data": {
      "text/html": [
       "<div>\n",
       "<style scoped>\n",
       "    .dataframe tbody tr th:only-of-type {\n",
       "        vertical-align: middle;\n",
       "    }\n",
       "\n",
       "    .dataframe tbody tr th {\n",
       "        vertical-align: top;\n",
       "    }\n",
       "\n",
       "    .dataframe thead th {\n",
       "        text-align: right;\n",
       "    }\n",
       "</style>\n",
       "<table border=\"1\" class=\"dataframe\">\n",
       "  <thead>\n",
       "    <tr style=\"text-align: right;\">\n",
       "      <th></th>\n",
       "      <th>ac</th>\n",
       "      <th>hp</th>\n",
       "      <th>str</th>\n",
       "      <th>dex</th>\n",
       "      <th>con</th>\n",
       "      <th>int</th>\n",
       "      <th>wis</th>\n",
       "      <th>cha</th>\n",
       "      <th>size_Gargantuan</th>\n",
       "      <th>size_Huge</th>\n",
       "      <th>...</th>\n",
       "      <th>speed_swim</th>\n",
       "      <th>legendary_not legendary</th>\n",
       "      <th>source_Extra (Adventurers League)</th>\n",
       "      <th>source_Extra (AideDD)</th>\n",
       "      <th>source_Extra (Dragon Mag)</th>\n",
       "      <th>source_Monster Manual</th>\n",
       "      <th>source_Monster Manual (BR)</th>\n",
       "      <th>source_Monster Manual (SRD)</th>\n",
       "      <th>source_Mordenkainen's Tome of Foes</th>\n",
       "      <th>source_Volo's Guide to Monsters</th>\n",
       "    </tr>\n",
       "  </thead>\n",
       "  <tbody>\n",
       "    <tr>\n",
       "      <th>0</th>\n",
       "      <td>12</td>\n",
       "      <td>13</td>\n",
       "      <td>10.0</td>\n",
       "      <td>14.0</td>\n",
       "      <td>10.0</td>\n",
       "      <td>11.0</td>\n",
       "      <td>12.0</td>\n",
       "      <td>11.0</td>\n",
       "      <td>0</td>\n",
       "      <td>0</td>\n",
       "      <td>...</td>\n",
       "      <td>0</td>\n",
       "      <td>1</td>\n",
       "      <td>0</td>\n",
       "      <td>0</td>\n",
       "      <td>0</td>\n",
       "      <td>0</td>\n",
       "      <td>1</td>\n",
       "      <td>0</td>\n",
       "      <td>0</td>\n",
       "      <td>0</td>\n",
       "    </tr>\n",
       "    <tr>\n",
       "      <th>2</th>\n",
       "      <td>17</td>\n",
       "      <td>135</td>\n",
       "      <td>21.0</td>\n",
       "      <td>9.0</td>\n",
       "      <td>15.0</td>\n",
       "      <td>18.0</td>\n",
       "      <td>15.0</td>\n",
       "      <td>18.0</td>\n",
       "      <td>0</td>\n",
       "      <td>0</td>\n",
       "      <td>...</td>\n",
       "      <td>1</td>\n",
       "      <td>0</td>\n",
       "      <td>0</td>\n",
       "      <td>0</td>\n",
       "      <td>0</td>\n",
       "      <td>0</td>\n",
       "      <td>0</td>\n",
       "      <td>1</td>\n",
       "      <td>0</td>\n",
       "      <td>0</td>\n",
       "    </tr>\n",
       "    <tr>\n",
       "      <th>5</th>\n",
       "      <td>10</td>\n",
       "      <td>9</td>\n",
       "      <td>10.0</td>\n",
       "      <td>10.0</td>\n",
       "      <td>10.0</td>\n",
       "      <td>10.0</td>\n",
       "      <td>14.0</td>\n",
       "      <td>11.0</td>\n",
       "      <td>0</td>\n",
       "      <td>0</td>\n",
       "      <td>...</td>\n",
       "      <td>0</td>\n",
       "      <td>1</td>\n",
       "      <td>0</td>\n",
       "      <td>0</td>\n",
       "      <td>0</td>\n",
       "      <td>0</td>\n",
       "      <td>0</td>\n",
       "      <td>1</td>\n",
       "      <td>0</td>\n",
       "      <td>0</td>\n",
       "    </tr>\n",
       "    <tr>\n",
       "      <th>6</th>\n",
       "      <td>19</td>\n",
       "      <td>195</td>\n",
       "      <td>23.0</td>\n",
       "      <td>14.0</td>\n",
       "      <td>21.0</td>\n",
       "      <td>14.0</td>\n",
       "      <td>13.0</td>\n",
       "      <td>17.0</td>\n",
       "      <td>0</td>\n",
       "      <td>1</td>\n",
       "      <td>...</td>\n",
       "      <td>0</td>\n",
       "      <td>0</td>\n",
       "      <td>0</td>\n",
       "      <td>0</td>\n",
       "      <td>0</td>\n",
       "      <td>0</td>\n",
       "      <td>0</td>\n",
       "      <td>1</td>\n",
       "      <td>0</td>\n",
       "      <td>0</td>\n",
       "    </tr>\n",
       "    <tr>\n",
       "      <th>8</th>\n",
       "      <td>19</td>\n",
       "      <td>225</td>\n",
       "      <td>25.0</td>\n",
       "      <td>10.0</td>\n",
       "      <td>23.0</td>\n",
       "      <td>16.0</td>\n",
       "      <td>15.0</td>\n",
       "      <td>19.0</td>\n",
       "      <td>0</td>\n",
       "      <td>1</td>\n",
       "      <td>...</td>\n",
       "      <td>0</td>\n",
       "      <td>0</td>\n",
       "      <td>0</td>\n",
       "      <td>0</td>\n",
       "      <td>0</td>\n",
       "      <td>0</td>\n",
       "      <td>0</td>\n",
       "      <td>1</td>\n",
       "      <td>0</td>\n",
       "      <td>0</td>\n",
       "    </tr>\n",
       "  </tbody>\n",
       "</table>\n",
       "<p>5 rows × 26 columns</p>\n",
       "</div>"
      ],
      "text/plain": [
       "   ac   hp   str   dex   con   int   wis   cha  size_Gargantuan  size_Huge  \\\n",
       "0  12   13  10.0  14.0  10.0  11.0  12.0  11.0                0          0   \n",
       "2  17  135  21.0   9.0  15.0  18.0  15.0  18.0                0          0   \n",
       "5  10    9  10.0  10.0  10.0  10.0  14.0  11.0                0          0   \n",
       "6  19  195  23.0  14.0  21.0  14.0  13.0  17.0                0          1   \n",
       "8  19  225  25.0  10.0  23.0  16.0  15.0  19.0                0          1   \n",
       "\n",
       "   ...  speed_swim  legendary_not legendary  \\\n",
       "0  ...           0                        1   \n",
       "2  ...           1                        0   \n",
       "5  ...           0                        1   \n",
       "6  ...           0                        0   \n",
       "8  ...           0                        0   \n",
       "\n",
       "   source_Extra (Adventurers League)  source_Extra (AideDD)  \\\n",
       "0                                  0                      0   \n",
       "2                                  0                      0   \n",
       "5                                  0                      0   \n",
       "6                                  0                      0   \n",
       "8                                  0                      0   \n",
       "\n",
       "   source_Extra (Dragon Mag)  source_Monster Manual  \\\n",
       "0                          0                      0   \n",
       "2                          0                      0   \n",
       "5                          0                      0   \n",
       "6                          0                      0   \n",
       "8                          0                      0   \n",
       "\n",
       "   source_Monster Manual (BR)  source_Monster Manual (SRD)  \\\n",
       "0                           1                            0   \n",
       "2                           0                            1   \n",
       "5                           0                            1   \n",
       "6                           0                            1   \n",
       "8                           0                            1   \n",
       "\n",
       "   source_Mordenkainen's Tome of Foes  source_Volo's Guide to Monsters  \n",
       "0                                   0                                0  \n",
       "2                                   0                                0  \n",
       "5                                   0                                0  \n",
       "6                                   0                                0  \n",
       "8                                   0                                0  \n",
       "\n",
       "[5 rows x 26 columns]"
      ]
     },
     "execution_count": 37,
     "metadata": {},
     "output_type": "execute_result"
    }
   ],
   "source": [
    "X=pd.get_dummies(X, dtype=int, drop_first=True)\n",
    "X.head()"
   ]
  },
  {
   "cell_type": "code",
   "execution_count": 38,
   "id": "4addbda0",
   "metadata": {},
   "outputs": [],
   "source": [
    "X_train, X_test, y_train, y_test= train_test_split(X, y,\n",
    "                                                  test_size=.20,\n",
    "                                                  random_state=20)"
   ]
  },
  {
   "cell_type": "code",
   "execution_count": 39,
   "id": "605ea209",
   "metadata": {},
   "outputs": [
    {
     "data": {
      "text/html": [
       "<style>#sk-container-id-1 {color: black;}#sk-container-id-1 pre{padding: 0;}#sk-container-id-1 div.sk-toggleable {background-color: white;}#sk-container-id-1 label.sk-toggleable__label {cursor: pointer;display: block;width: 100%;margin-bottom: 0;padding: 0.3em;box-sizing: border-box;text-align: center;}#sk-container-id-1 label.sk-toggleable__label-arrow:before {content: \"▸\";float: left;margin-right: 0.25em;color: #696969;}#sk-container-id-1 label.sk-toggleable__label-arrow:hover:before {color: black;}#sk-container-id-1 div.sk-estimator:hover label.sk-toggleable__label-arrow:before {color: black;}#sk-container-id-1 div.sk-toggleable__content {max-height: 0;max-width: 0;overflow: hidden;text-align: left;background-color: #f0f8ff;}#sk-container-id-1 div.sk-toggleable__content pre {margin: 0.2em;color: black;border-radius: 0.25em;background-color: #f0f8ff;}#sk-container-id-1 input.sk-toggleable__control:checked~div.sk-toggleable__content {max-height: 200px;max-width: 100%;overflow: auto;}#sk-container-id-1 input.sk-toggleable__control:checked~label.sk-toggleable__label-arrow:before {content: \"▾\";}#sk-container-id-1 div.sk-estimator input.sk-toggleable__control:checked~label.sk-toggleable__label {background-color: #d4ebff;}#sk-container-id-1 div.sk-label input.sk-toggleable__control:checked~label.sk-toggleable__label {background-color: #d4ebff;}#sk-container-id-1 input.sk-hidden--visually {border: 0;clip: rect(1px 1px 1px 1px);clip: rect(1px, 1px, 1px, 1px);height: 1px;margin: -1px;overflow: hidden;padding: 0;position: absolute;width: 1px;}#sk-container-id-1 div.sk-estimator {font-family: monospace;background-color: #f0f8ff;border: 1px dotted black;border-radius: 0.25em;box-sizing: border-box;margin-bottom: 0.5em;}#sk-container-id-1 div.sk-estimator:hover {background-color: #d4ebff;}#sk-container-id-1 div.sk-parallel-item::after {content: \"\";width: 100%;border-bottom: 1px solid gray;flex-grow: 1;}#sk-container-id-1 div.sk-label:hover label.sk-toggleable__label {background-color: #d4ebff;}#sk-container-id-1 div.sk-serial::before {content: \"\";position: absolute;border-left: 1px solid gray;box-sizing: border-box;top: 0;bottom: 0;left: 50%;z-index: 0;}#sk-container-id-1 div.sk-serial {display: flex;flex-direction: column;align-items: center;background-color: white;padding-right: 0.2em;padding-left: 0.2em;position: relative;}#sk-container-id-1 div.sk-item {position: relative;z-index: 1;}#sk-container-id-1 div.sk-parallel {display: flex;align-items: stretch;justify-content: center;background-color: white;position: relative;}#sk-container-id-1 div.sk-item::before, #sk-container-id-1 div.sk-parallel-item::before {content: \"\";position: absolute;border-left: 1px solid gray;box-sizing: border-box;top: 0;bottom: 0;left: 50%;z-index: -1;}#sk-container-id-1 div.sk-parallel-item {display: flex;flex-direction: column;z-index: 1;position: relative;background-color: white;}#sk-container-id-1 div.sk-parallel-item:first-child::after {align-self: flex-end;width: 50%;}#sk-container-id-1 div.sk-parallel-item:last-child::after {align-self: flex-start;width: 50%;}#sk-container-id-1 div.sk-parallel-item:only-child::after {width: 0;}#sk-container-id-1 div.sk-dashed-wrapped {border: 1px dashed gray;margin: 0 0.4em 0.5em 0.4em;box-sizing: border-box;padding-bottom: 0.4em;background-color: white;}#sk-container-id-1 div.sk-label label {font-family: monospace;font-weight: bold;display: inline-block;line-height: 1.2em;}#sk-container-id-1 div.sk-label-container {text-align: center;}#sk-container-id-1 div.sk-container {/* jupyter's `normalize.less` sets `[hidden] { display: none; }` but bootstrap.min.css set `[hidden] { display: none !important; }` so we also need the `!important` here to be able to override the default hidden behavior on the sphinx rendered scikit-learn.org. See: https://github.com/scikit-learn/scikit-learn/issues/21755 */display: inline-block !important;position: relative;}#sk-container-id-1 div.sk-text-repr-fallback {display: none;}</style><div id=\"sk-container-id-1\" class=\"sk-top-container\"><div class=\"sk-text-repr-fallback\"><pre>LinearRegression()</pre><b>In a Jupyter environment, please rerun this cell to show the HTML representation or trust the notebook. <br />On GitHub, the HTML representation is unable to render, please try loading this page with nbviewer.org.</b></div><div class=\"sk-container\" hidden><div class=\"sk-item\"><div class=\"sk-estimator sk-toggleable\"><input class=\"sk-toggleable__control sk-hidden--visually\" id=\"sk-estimator-id-1\" type=\"checkbox\" checked><label for=\"sk-estimator-id-1\" class=\"sk-toggleable__label sk-toggleable__label-arrow\">LinearRegression</label><div class=\"sk-toggleable__content\"><pre>LinearRegression()</pre></div></div></div></div></div>"
      ],
      "text/plain": [
       "LinearRegression()"
      ]
     },
     "execution_count": 39,
     "metadata": {},
     "output_type": "execute_result"
    }
   ],
   "source": [
    "regressor1=LinearRegression()\n",
    "regressor1.fit(X_train.values, y_train)"
   ]
  },
  {
   "cell_type": "code",
   "execution_count": 40,
   "id": "7f0d32d8",
   "metadata": {},
   "outputs": [
    {
     "data": {
      "text/plain": [
       "array([[17.43254453],\n",
       "       [ 5.48475345],\n",
       "       [ 5.89887533],\n",
       "       [ 3.20714905],\n",
       "       [ 6.14397682]])"
      ]
     },
     "execution_count": 40,
     "metadata": {},
     "output_type": "execute_result"
    }
   ],
   "source": [
    "y_pred1=regressor1.predict(X_test.values)\n",
    "y_pred1[:5]"
   ]
  },
  {
   "cell_type": "code",
   "execution_count": 41,
   "id": "05679f09",
   "metadata": {},
   "outputs": [
    {
     "name": "stdout",
     "output_type": "stream",
     "text": [
      "r2_score: 0.91\n",
      "MSE: 2\n",
      "RMSE: 2\n"
     ]
    }
   ],
   "source": [
    "print(f\"r2_score: {r2_score(y_test,y_pred1):.2f}\")\n",
    "print(f\"MSE: {mean_squared_error(y_test,y_pred1):.0f}\")\n",
    "print(f\"RMSE: {math.sqrt(mean_squared_error(y_test,y_pred1)):.0f}\")"
   ]
  },
  {
   "cell_type": "code",
   "execution_count": 42,
   "id": "12638f35",
   "metadata": {},
   "outputs": [
    {
     "data": {
      "text/plain": [
       "array([[0.78676389]])"
      ]
     },
     "execution_count": 42,
     "metadata": {},
     "output_type": "execute_result"
    }
   ],
   "source": [
    "#predicting the cr of a monster whose actual cr is 1/4\n",
    "regressor1.predict([[12,13,10,14,10,11,12,11, 0,0,0,1,0,0, 0,0,0, 1, 0,0,0,0,1,0,0,0]])"
   ]
  },
  {
   "cell_type": "code",
   "execution_count": 43,
   "id": "5ab32cae",
   "metadata": {},
   "outputs": [
    {
     "data": {
      "text/plain": [
       "array([[11.99326901]])"
      ]
     },
     "execution_count": 43,
     "metadata": {},
     "output_type": "execute_result"
    }
   ],
   "source": [
    "#predicting the cr of a monster whose actual cr is 10\n",
    "regressor1.predict([[17,135,21,9,15,18,15,18, 0,0,1,0,0,0, 0,1,0, 0, 0,0,0,0,0,1,0,0]])"
   ]
  },
  {
   "cell_type": "code",
   "execution_count": 44,
   "id": "4c764541",
   "metadata": {},
   "outputs": [
    {
     "data": {
      "text/plain": [
       "array([[0.98136692]])"
      ]
     },
     "execution_count": 44,
     "metadata": {},
     "output_type": "execute_result"
    }
   ],
   "source": [
    "#predicting the cr of a monster whose actual cr is 1/4\n",
    "regressor1.predict([[10,9,10,10,10,10,14,11, 0,0,0,1,0,0, 0,1,0, 1, 0,0,0,0,0,1,0,0]])"
   ]
  },
  {
   "cell_type": "code",
   "execution_count": 45,
   "id": "475c0b11",
   "metadata": {},
   "outputs": [
    {
     "data": {
      "text/html": [
       "<div>\n",
       "<style scoped>\n",
       "    .dataframe tbody tr th:only-of-type {\n",
       "        vertical-align: middle;\n",
       "    }\n",
       "\n",
       "    .dataframe tbody tr th {\n",
       "        vertical-align: top;\n",
       "    }\n",
       "\n",
       "    .dataframe thead th {\n",
       "        text-align: right;\n",
       "    }\n",
       "</style>\n",
       "<table border=\"1\" class=\"dataframe\">\n",
       "  <thead>\n",
       "    <tr style=\"text-align: right;\">\n",
       "      <th></th>\n",
       "      <th>ac</th>\n",
       "      <th>hp</th>\n",
       "      <th>str</th>\n",
       "      <th>dex</th>\n",
       "      <th>con</th>\n",
       "      <th>int</th>\n",
       "      <th>wis</th>\n",
       "      <th>cha</th>\n",
       "      <th>size_Gargantuan</th>\n",
       "      <th>size_Huge</th>\n",
       "      <th>size_Large</th>\n",
       "      <th>size_Medium</th>\n",
       "      <th>size_Small</th>\n",
       "      <th>size_Tiny</th>\n",
       "      <th>speed_fly, swim</th>\n",
       "      <th>speed_normal</th>\n",
       "      <th>speed_swim</th>\n",
       "      <th>legendary_not legendary</th>\n",
       "      <th>source_Extra (Adventurers League)</th>\n",
       "      <th>source_Extra (AideDD)</th>\n",
       "      <th>source_Extra (Dragon Mag)</th>\n",
       "      <th>source_Monster Manual</th>\n",
       "      <th>source_Monster Manual (BR)</th>\n",
       "      <th>source_Monster Manual (SRD)</th>\n",
       "      <th>source_Mordenkainen's Tome of Foes</th>\n",
       "      <th>source_Volo's Guide to Monsters</th>\n",
       "    </tr>\n",
       "  </thead>\n",
       "  <tbody>\n",
       "    <tr>\n",
       "      <th>0</th>\n",
       "      <td>12</td>\n",
       "      <td>13</td>\n",
       "      <td>10.0</td>\n",
       "      <td>14.0</td>\n",
       "      <td>10.0</td>\n",
       "      <td>11.0</td>\n",
       "      <td>12.0</td>\n",
       "      <td>11.0</td>\n",
       "      <td>0</td>\n",
       "      <td>0</td>\n",
       "      <td>0</td>\n",
       "      <td>1</td>\n",
       "      <td>0</td>\n",
       "      <td>0</td>\n",
       "      <td>0</td>\n",
       "      <td>0</td>\n",
       "      <td>0</td>\n",
       "      <td>1</td>\n",
       "      <td>0</td>\n",
       "      <td>0</td>\n",
       "      <td>0</td>\n",
       "      <td>0</td>\n",
       "      <td>1</td>\n",
       "      <td>0</td>\n",
       "      <td>0</td>\n",
       "      <td>0</td>\n",
       "    </tr>\n",
       "    <tr>\n",
       "      <th>2</th>\n",
       "      <td>17</td>\n",
       "      <td>135</td>\n",
       "      <td>21.0</td>\n",
       "      <td>9.0</td>\n",
       "      <td>15.0</td>\n",
       "      <td>18.0</td>\n",
       "      <td>15.0</td>\n",
       "      <td>18.0</td>\n",
       "      <td>0</td>\n",
       "      <td>0</td>\n",
       "      <td>1</td>\n",
       "      <td>0</td>\n",
       "      <td>0</td>\n",
       "      <td>0</td>\n",
       "      <td>0</td>\n",
       "      <td>0</td>\n",
       "      <td>1</td>\n",
       "      <td>0</td>\n",
       "      <td>0</td>\n",
       "      <td>0</td>\n",
       "      <td>0</td>\n",
       "      <td>0</td>\n",
       "      <td>0</td>\n",
       "      <td>1</td>\n",
       "      <td>0</td>\n",
       "      <td>0</td>\n",
       "    </tr>\n",
       "    <tr>\n",
       "      <th>5</th>\n",
       "      <td>10</td>\n",
       "      <td>9</td>\n",
       "      <td>10.0</td>\n",
       "      <td>10.0</td>\n",
       "      <td>10.0</td>\n",
       "      <td>10.0</td>\n",
       "      <td>14.0</td>\n",
       "      <td>11.0</td>\n",
       "      <td>0</td>\n",
       "      <td>0</td>\n",
       "      <td>0</td>\n",
       "      <td>1</td>\n",
       "      <td>0</td>\n",
       "      <td>0</td>\n",
       "      <td>0</td>\n",
       "      <td>1</td>\n",
       "      <td>0</td>\n",
       "      <td>1</td>\n",
       "      <td>0</td>\n",
       "      <td>0</td>\n",
       "      <td>0</td>\n",
       "      <td>0</td>\n",
       "      <td>0</td>\n",
       "      <td>1</td>\n",
       "      <td>0</td>\n",
       "      <td>0</td>\n",
       "    </tr>\n",
       "    <tr>\n",
       "      <th>6</th>\n",
       "      <td>19</td>\n",
       "      <td>195</td>\n",
       "      <td>23.0</td>\n",
       "      <td>14.0</td>\n",
       "      <td>21.0</td>\n",
       "      <td>14.0</td>\n",
       "      <td>13.0</td>\n",
       "      <td>17.0</td>\n",
       "      <td>0</td>\n",
       "      <td>1</td>\n",
       "      <td>0</td>\n",
       "      <td>0</td>\n",
       "      <td>0</td>\n",
       "      <td>0</td>\n",
       "      <td>1</td>\n",
       "      <td>0</td>\n",
       "      <td>0</td>\n",
       "      <td>0</td>\n",
       "      <td>0</td>\n",
       "      <td>0</td>\n",
       "      <td>0</td>\n",
       "      <td>0</td>\n",
       "      <td>0</td>\n",
       "      <td>1</td>\n",
       "      <td>0</td>\n",
       "      <td>0</td>\n",
       "    </tr>\n",
       "    <tr>\n",
       "      <th>8</th>\n",
       "      <td>19</td>\n",
       "      <td>225</td>\n",
       "      <td>25.0</td>\n",
       "      <td>10.0</td>\n",
       "      <td>23.0</td>\n",
       "      <td>16.0</td>\n",
       "      <td>15.0</td>\n",
       "      <td>19.0</td>\n",
       "      <td>0</td>\n",
       "      <td>1</td>\n",
       "      <td>0</td>\n",
       "      <td>0</td>\n",
       "      <td>0</td>\n",
       "      <td>0</td>\n",
       "      <td>0</td>\n",
       "      <td>0</td>\n",
       "      <td>0</td>\n",
       "      <td>0</td>\n",
       "      <td>0</td>\n",
       "      <td>0</td>\n",
       "      <td>0</td>\n",
       "      <td>0</td>\n",
       "      <td>0</td>\n",
       "      <td>1</td>\n",
       "      <td>0</td>\n",
       "      <td>0</td>\n",
       "    </tr>\n",
       "  </tbody>\n",
       "</table>\n",
       "</div>"
      ],
      "text/plain": [
       "   ac   hp   str   dex   con   int   wis   cha  size_Gargantuan  size_Huge  \\\n",
       "0  12   13  10.0  14.0  10.0  11.0  12.0  11.0                0          0   \n",
       "2  17  135  21.0   9.0  15.0  18.0  15.0  18.0                0          0   \n",
       "5  10    9  10.0  10.0  10.0  10.0  14.0  11.0                0          0   \n",
       "6  19  195  23.0  14.0  21.0  14.0  13.0  17.0                0          1   \n",
       "8  19  225  25.0  10.0  23.0  16.0  15.0  19.0                0          1   \n",
       "\n",
       "   size_Large  size_Medium  size_Small  size_Tiny  speed_fly, swim  \\\n",
       "0           0            1           0          0                0   \n",
       "2           1            0           0          0                0   \n",
       "5           0            1           0          0                0   \n",
       "6           0            0           0          0                1   \n",
       "8           0            0           0          0                0   \n",
       "\n",
       "   speed_normal  speed_swim  legendary_not legendary  \\\n",
       "0             0           0                        1   \n",
       "2             0           1                        0   \n",
       "5             1           0                        1   \n",
       "6             0           0                        0   \n",
       "8             0           0                        0   \n",
       "\n",
       "   source_Extra (Adventurers League)  source_Extra (AideDD)  \\\n",
       "0                                  0                      0   \n",
       "2                                  0                      0   \n",
       "5                                  0                      0   \n",
       "6                                  0                      0   \n",
       "8                                  0                      0   \n",
       "\n",
       "   source_Extra (Dragon Mag)  source_Monster Manual  \\\n",
       "0                          0                      0   \n",
       "2                          0                      0   \n",
       "5                          0                      0   \n",
       "6                          0                      0   \n",
       "8                          0                      0   \n",
       "\n",
       "   source_Monster Manual (BR)  source_Monster Manual (SRD)  \\\n",
       "0                           1                            0   \n",
       "2                           0                            1   \n",
       "5                           0                            1   \n",
       "6                           0                            1   \n",
       "8                           0                            1   \n",
       "\n",
       "   source_Mordenkainen's Tome of Foes  source_Volo's Guide to Monsters  \n",
       "0                                   0                                0  \n",
       "2                                   0                                0  \n",
       "5                                   0                                0  \n",
       "6                                   0                                0  \n",
       "8                                   0                                0  "
      ]
     },
     "execution_count": 45,
     "metadata": {},
     "output_type": "execute_result"
    }
   ],
   "source": [
    "pd.set_option('display.max_columns', None)\n",
    "X.head()"
   ]
  },
  {
   "cell_type": "code",
   "execution_count": 46,
   "id": "803fca8d",
   "metadata": {},
   "outputs": [
    {
     "name": "stdout",
     "output_type": "stream",
     "text": [
      "['name' 'cr' 'size' 'ac' 'hp' 'speed' 'align' 'legendary' 'source' 'str'\n",
      " 'dex' 'con' 'int' 'wis' 'cha']\n"
     ]
    }
   ],
   "source": [
    "print(fd.columns.values)"
   ]
  },
  {
   "cell_type": "code",
   "execution_count": 47,
   "id": "eebf5d94",
   "metadata": {},
   "outputs": [],
   "source": [
    "X_train, X_test, y_train, y_test= train_test_split(X, y,\n",
    "                                                  test_size=.15,\n",
    "                                                  random_state=20)"
   ]
  },
  {
   "cell_type": "code",
   "execution_count": 48,
   "id": "3346bee9",
   "metadata": {},
   "outputs": [
    {
     "data": {
      "text/html": [
       "<style>#sk-container-id-2 {color: black;}#sk-container-id-2 pre{padding: 0;}#sk-container-id-2 div.sk-toggleable {background-color: white;}#sk-container-id-2 label.sk-toggleable__label {cursor: pointer;display: block;width: 100%;margin-bottom: 0;padding: 0.3em;box-sizing: border-box;text-align: center;}#sk-container-id-2 label.sk-toggleable__label-arrow:before {content: \"▸\";float: left;margin-right: 0.25em;color: #696969;}#sk-container-id-2 label.sk-toggleable__label-arrow:hover:before {color: black;}#sk-container-id-2 div.sk-estimator:hover label.sk-toggleable__label-arrow:before {color: black;}#sk-container-id-2 div.sk-toggleable__content {max-height: 0;max-width: 0;overflow: hidden;text-align: left;background-color: #f0f8ff;}#sk-container-id-2 div.sk-toggleable__content pre {margin: 0.2em;color: black;border-radius: 0.25em;background-color: #f0f8ff;}#sk-container-id-2 input.sk-toggleable__control:checked~div.sk-toggleable__content {max-height: 200px;max-width: 100%;overflow: auto;}#sk-container-id-2 input.sk-toggleable__control:checked~label.sk-toggleable__label-arrow:before {content: \"▾\";}#sk-container-id-2 div.sk-estimator input.sk-toggleable__control:checked~label.sk-toggleable__label {background-color: #d4ebff;}#sk-container-id-2 div.sk-label input.sk-toggleable__control:checked~label.sk-toggleable__label {background-color: #d4ebff;}#sk-container-id-2 input.sk-hidden--visually {border: 0;clip: rect(1px 1px 1px 1px);clip: rect(1px, 1px, 1px, 1px);height: 1px;margin: -1px;overflow: hidden;padding: 0;position: absolute;width: 1px;}#sk-container-id-2 div.sk-estimator {font-family: monospace;background-color: #f0f8ff;border: 1px dotted black;border-radius: 0.25em;box-sizing: border-box;margin-bottom: 0.5em;}#sk-container-id-2 div.sk-estimator:hover {background-color: #d4ebff;}#sk-container-id-2 div.sk-parallel-item::after {content: \"\";width: 100%;border-bottom: 1px solid gray;flex-grow: 1;}#sk-container-id-2 div.sk-label:hover label.sk-toggleable__label {background-color: #d4ebff;}#sk-container-id-2 div.sk-serial::before {content: \"\";position: absolute;border-left: 1px solid gray;box-sizing: border-box;top: 0;bottom: 0;left: 50%;z-index: 0;}#sk-container-id-2 div.sk-serial {display: flex;flex-direction: column;align-items: center;background-color: white;padding-right: 0.2em;padding-left: 0.2em;position: relative;}#sk-container-id-2 div.sk-item {position: relative;z-index: 1;}#sk-container-id-2 div.sk-parallel {display: flex;align-items: stretch;justify-content: center;background-color: white;position: relative;}#sk-container-id-2 div.sk-item::before, #sk-container-id-2 div.sk-parallel-item::before {content: \"\";position: absolute;border-left: 1px solid gray;box-sizing: border-box;top: 0;bottom: 0;left: 50%;z-index: -1;}#sk-container-id-2 div.sk-parallel-item {display: flex;flex-direction: column;z-index: 1;position: relative;background-color: white;}#sk-container-id-2 div.sk-parallel-item:first-child::after {align-self: flex-end;width: 50%;}#sk-container-id-2 div.sk-parallel-item:last-child::after {align-self: flex-start;width: 50%;}#sk-container-id-2 div.sk-parallel-item:only-child::after {width: 0;}#sk-container-id-2 div.sk-dashed-wrapped {border: 1px dashed gray;margin: 0 0.4em 0.5em 0.4em;box-sizing: border-box;padding-bottom: 0.4em;background-color: white;}#sk-container-id-2 div.sk-label label {font-family: monospace;font-weight: bold;display: inline-block;line-height: 1.2em;}#sk-container-id-2 div.sk-label-container {text-align: center;}#sk-container-id-2 div.sk-container {/* jupyter's `normalize.less` sets `[hidden] { display: none; }` but bootstrap.min.css set `[hidden] { display: none !important; }` so we also need the `!important` here to be able to override the default hidden behavior on the sphinx rendered scikit-learn.org. See: https://github.com/scikit-learn/scikit-learn/issues/21755 */display: inline-block !important;position: relative;}#sk-container-id-2 div.sk-text-repr-fallback {display: none;}</style><div id=\"sk-container-id-2\" class=\"sk-top-container\"><div class=\"sk-text-repr-fallback\"><pre>LinearRegression()</pre><b>In a Jupyter environment, please rerun this cell to show the HTML representation or trust the notebook. <br />On GitHub, the HTML representation is unable to render, please try loading this page with nbviewer.org.</b></div><div class=\"sk-container\" hidden><div class=\"sk-item\"><div class=\"sk-estimator sk-toggleable\"><input class=\"sk-toggleable__control sk-hidden--visually\" id=\"sk-estimator-id-2\" type=\"checkbox\" checked><label for=\"sk-estimator-id-2\" class=\"sk-toggleable__label sk-toggleable__label-arrow\">LinearRegression</label><div class=\"sk-toggleable__content\"><pre>LinearRegression()</pre></div></div></div></div></div>"
      ],
      "text/plain": [
       "LinearRegression()"
      ]
     },
     "execution_count": 48,
     "metadata": {},
     "output_type": "execute_result"
    }
   ],
   "source": [
    "regressor2=LinearRegression()\n",
    "regressor2.fit(X_train.values, y_train)"
   ]
  },
  {
   "cell_type": "code",
   "execution_count": 49,
   "id": "b8285a21",
   "metadata": {},
   "outputs": [],
   "source": [
    "y_pred2=regressor2.predict(X_test.values)"
   ]
  },
  {
   "cell_type": "code",
   "execution_count": 50,
   "id": "ca9edde3",
   "metadata": {},
   "outputs": [
    {
     "name": "stdout",
     "output_type": "stream",
     "text": [
      "r2_score: 0.94\n",
      "MSE: 2\n",
      "RMSE: 1\n"
     ]
    }
   ],
   "source": [
    "print(f\"r2_score: {r2_score(y_test,y_pred2):.2f}\")\n",
    "print(f\"MSE: {mean_squared_error(y_test,y_pred2):.0f}\")\n",
    "print(f\"RMSE: {math.sqrt(mean_squared_error(y_test,y_pred2)):.0f}\")"
   ]
  },
  {
   "cell_type": "code",
   "execution_count": 51,
   "id": "b5c26cc7",
   "metadata": {},
   "outputs": [
    {
     "data": {
      "text/plain": [
       "array([[0.71931938]])"
      ]
     },
     "execution_count": 51,
     "metadata": {},
     "output_type": "execute_result"
    }
   ],
   "source": [
    "#predicting the cr of a monster whose actual cr is 1/4\n",
    "regressor2.predict([[12,13,10,14,10,11,12,11, 0,0,0,1,0,0, 0,0,0, 1, 0,0,0,0,1,0,0,0]])"
   ]
  },
  {
   "cell_type": "code",
   "execution_count": 52,
   "id": "b61bce47",
   "metadata": {},
   "outputs": [
    {
     "data": {
      "text/plain": [
       "array([[11.90512978]])"
      ]
     },
     "execution_count": 52,
     "metadata": {},
     "output_type": "execute_result"
    }
   ],
   "source": [
    "#predicting the cr of a monster whose actual cr is 10\n",
    "regressor2.predict([[17,135,21,9,15,18,15,18, 0,0,1,0,0,0, 0,1,0, 0, 0,0,0,0,0,1,0,0]])"
   ]
  },
  {
   "cell_type": "code",
   "execution_count": 53,
   "id": "ab572fb5",
   "metadata": {},
   "outputs": [
    {
     "data": {
      "text/plain": [
       "array([[0.98136692]])"
      ]
     },
     "execution_count": 53,
     "metadata": {},
     "output_type": "execute_result"
    }
   ],
   "source": [
    "#predicting the cr of a monster whose actual cr is 1/4\n",
    "regressor1.predict([[10,9,10,10,10,10,14,11, 0,0,0,1,0,0, 0,1,0, 1, 0,0,0,0,0,1,0,0]])"
   ]
  },
  {
   "cell_type": "code",
   "execution_count": 54,
   "id": "62c0b972",
   "metadata": {},
   "outputs": [],
   "source": [
    "X_train, X_test, y_train, y_test= train_test_split(X, y,\n",
    "                                                  test_size=.10,\n",
    "                                                  random_state=20)"
   ]
  },
  {
   "cell_type": "code",
   "execution_count": 55,
   "id": "ef3140a1",
   "metadata": {},
   "outputs": [
    {
     "data": {
      "text/html": [
       "<style>#sk-container-id-3 {color: black;}#sk-container-id-3 pre{padding: 0;}#sk-container-id-3 div.sk-toggleable {background-color: white;}#sk-container-id-3 label.sk-toggleable__label {cursor: pointer;display: block;width: 100%;margin-bottom: 0;padding: 0.3em;box-sizing: border-box;text-align: center;}#sk-container-id-3 label.sk-toggleable__label-arrow:before {content: \"▸\";float: left;margin-right: 0.25em;color: #696969;}#sk-container-id-3 label.sk-toggleable__label-arrow:hover:before {color: black;}#sk-container-id-3 div.sk-estimator:hover label.sk-toggleable__label-arrow:before {color: black;}#sk-container-id-3 div.sk-toggleable__content {max-height: 0;max-width: 0;overflow: hidden;text-align: left;background-color: #f0f8ff;}#sk-container-id-3 div.sk-toggleable__content pre {margin: 0.2em;color: black;border-radius: 0.25em;background-color: #f0f8ff;}#sk-container-id-3 input.sk-toggleable__control:checked~div.sk-toggleable__content {max-height: 200px;max-width: 100%;overflow: auto;}#sk-container-id-3 input.sk-toggleable__control:checked~label.sk-toggleable__label-arrow:before {content: \"▾\";}#sk-container-id-3 div.sk-estimator input.sk-toggleable__control:checked~label.sk-toggleable__label {background-color: #d4ebff;}#sk-container-id-3 div.sk-label input.sk-toggleable__control:checked~label.sk-toggleable__label {background-color: #d4ebff;}#sk-container-id-3 input.sk-hidden--visually {border: 0;clip: rect(1px 1px 1px 1px);clip: rect(1px, 1px, 1px, 1px);height: 1px;margin: -1px;overflow: hidden;padding: 0;position: absolute;width: 1px;}#sk-container-id-3 div.sk-estimator {font-family: monospace;background-color: #f0f8ff;border: 1px dotted black;border-radius: 0.25em;box-sizing: border-box;margin-bottom: 0.5em;}#sk-container-id-3 div.sk-estimator:hover {background-color: #d4ebff;}#sk-container-id-3 div.sk-parallel-item::after {content: \"\";width: 100%;border-bottom: 1px solid gray;flex-grow: 1;}#sk-container-id-3 div.sk-label:hover label.sk-toggleable__label {background-color: #d4ebff;}#sk-container-id-3 div.sk-serial::before {content: \"\";position: absolute;border-left: 1px solid gray;box-sizing: border-box;top: 0;bottom: 0;left: 50%;z-index: 0;}#sk-container-id-3 div.sk-serial {display: flex;flex-direction: column;align-items: center;background-color: white;padding-right: 0.2em;padding-left: 0.2em;position: relative;}#sk-container-id-3 div.sk-item {position: relative;z-index: 1;}#sk-container-id-3 div.sk-parallel {display: flex;align-items: stretch;justify-content: center;background-color: white;position: relative;}#sk-container-id-3 div.sk-item::before, #sk-container-id-3 div.sk-parallel-item::before {content: \"\";position: absolute;border-left: 1px solid gray;box-sizing: border-box;top: 0;bottom: 0;left: 50%;z-index: -1;}#sk-container-id-3 div.sk-parallel-item {display: flex;flex-direction: column;z-index: 1;position: relative;background-color: white;}#sk-container-id-3 div.sk-parallel-item:first-child::after {align-self: flex-end;width: 50%;}#sk-container-id-3 div.sk-parallel-item:last-child::after {align-self: flex-start;width: 50%;}#sk-container-id-3 div.sk-parallel-item:only-child::after {width: 0;}#sk-container-id-3 div.sk-dashed-wrapped {border: 1px dashed gray;margin: 0 0.4em 0.5em 0.4em;box-sizing: border-box;padding-bottom: 0.4em;background-color: white;}#sk-container-id-3 div.sk-label label {font-family: monospace;font-weight: bold;display: inline-block;line-height: 1.2em;}#sk-container-id-3 div.sk-label-container {text-align: center;}#sk-container-id-3 div.sk-container {/* jupyter's `normalize.less` sets `[hidden] { display: none; }` but bootstrap.min.css set `[hidden] { display: none !important; }` so we also need the `!important` here to be able to override the default hidden behavior on the sphinx rendered scikit-learn.org. See: https://github.com/scikit-learn/scikit-learn/issues/21755 */display: inline-block !important;position: relative;}#sk-container-id-3 div.sk-text-repr-fallback {display: none;}</style><div id=\"sk-container-id-3\" class=\"sk-top-container\"><div class=\"sk-text-repr-fallback\"><pre>LinearRegression()</pre><b>In a Jupyter environment, please rerun this cell to show the HTML representation or trust the notebook. <br />On GitHub, the HTML representation is unable to render, please try loading this page with nbviewer.org.</b></div><div class=\"sk-container\" hidden><div class=\"sk-item\"><div class=\"sk-estimator sk-toggleable\"><input class=\"sk-toggleable__control sk-hidden--visually\" id=\"sk-estimator-id-3\" type=\"checkbox\" checked><label for=\"sk-estimator-id-3\" class=\"sk-toggleable__label sk-toggleable__label-arrow\">LinearRegression</label><div class=\"sk-toggleable__content\"><pre>LinearRegression()</pre></div></div></div></div></div>"
      ],
      "text/plain": [
       "LinearRegression()"
      ]
     },
     "execution_count": 55,
     "metadata": {},
     "output_type": "execute_result"
    }
   ],
   "source": [
    "regressor3=LinearRegression()\n",
    "regressor3.fit(X_train.values, y_train)"
   ]
  },
  {
   "cell_type": "code",
   "execution_count": 56,
   "id": "0276e68c",
   "metadata": {},
   "outputs": [
    {
     "data": {
      "text/plain": [
       "array([[17.45371037],\n",
       "       [ 5.49967291],\n",
       "       [ 6.14511061],\n",
       "       [ 3.12861938],\n",
       "       [ 6.2676375 ]])"
      ]
     },
     "execution_count": 56,
     "metadata": {},
     "output_type": "execute_result"
    }
   ],
   "source": [
    "y_pred3=regressor3.predict(X_test.values)\n",
    "y_pred3[:5]"
   ]
  },
  {
   "cell_type": "code",
   "execution_count": 57,
   "id": "d91f90e0",
   "metadata": {},
   "outputs": [
    {
     "name": "stdout",
     "output_type": "stream",
     "text": [
      "r2_score: 0.95\n",
      "MSE: 2\n",
      "RMSE: 1\n"
     ]
    }
   ],
   "source": [
    "print(f\"r2_score: {r2_score(y_test,y_pred3):.2f}\")\n",
    "print(f\"MSE: {mean_squared_error(y_test,y_pred3):.0f}\")\n",
    "print(f\"RMSE: {math.sqrt(mean_squared_error(y_test,y_pred3)):.0f}\")"
   ]
  },
  {
   "cell_type": "code",
   "execution_count": 58,
   "id": "ea271a21",
   "metadata": {},
   "outputs": [
    {
     "data": {
      "text/plain": [
       "array([[0.68373027]])"
      ]
     },
     "execution_count": 58,
     "metadata": {},
     "output_type": "execute_result"
    }
   ],
   "source": [
    "#predicting the cr of a monster whose actual cr is 1/4\n",
    "regressor3.predict([[12,13,10,14,10,11,12,11, 0,0,0,1,0,0, 0,0,0, 1, 0,0,0,0,1,0,0,0]])"
   ]
  },
  {
   "cell_type": "code",
   "execution_count": 59,
   "id": "01a0b3a3",
   "metadata": {},
   "outputs": [
    {
     "data": {
      "text/plain": [
       "array([[11.79534184]])"
      ]
     },
     "execution_count": 59,
     "metadata": {},
     "output_type": "execute_result"
    }
   ],
   "source": [
    "#predicting the cr of a monster whose actual cr is 10\n",
    "regressor3.predict([[17,135,21,9,15,18,15,18, 0,0,1,0,0,0, 0,1,0, 0, 0,0,0,0,0,1,0,0]])"
   ]
  },
  {
   "cell_type": "code",
   "execution_count": 60,
   "id": "332a30bc",
   "metadata": {},
   "outputs": [
    {
     "data": {
      "text/plain": [
       "array([[0.89855395]])"
      ]
     },
     "execution_count": 60,
     "metadata": {},
     "output_type": "execute_result"
    }
   ],
   "source": [
    "#predicting the cr of a monster whose actual cr is 1/4\n",
    "regressor3.predict([[10,9,10,10,10,10,14,11, 0,0,0,1,0,0, 0,1,0, 1, 0,0,0,0,0,1,0,0]])"
   ]
  },
  {
   "cell_type": "code",
   "execution_count": 61,
   "id": "7fd4ee83",
   "metadata": {},
   "outputs": [],
   "source": [
    "X_train, X_test, y_train, y_test= train_test_split(X, y,\n",
    "                                                  test_size=.01,\n",
    "                                                  random_state=60)"
   ]
  },
  {
   "cell_type": "code",
   "execution_count": 62,
   "id": "c95865a1",
   "metadata": {},
   "outputs": [
    {
     "data": {
      "text/html": [
       "<style>#sk-container-id-4 {color: black;}#sk-container-id-4 pre{padding: 0;}#sk-container-id-4 div.sk-toggleable {background-color: white;}#sk-container-id-4 label.sk-toggleable__label {cursor: pointer;display: block;width: 100%;margin-bottom: 0;padding: 0.3em;box-sizing: border-box;text-align: center;}#sk-container-id-4 label.sk-toggleable__label-arrow:before {content: \"▸\";float: left;margin-right: 0.25em;color: #696969;}#sk-container-id-4 label.sk-toggleable__label-arrow:hover:before {color: black;}#sk-container-id-4 div.sk-estimator:hover label.sk-toggleable__label-arrow:before {color: black;}#sk-container-id-4 div.sk-toggleable__content {max-height: 0;max-width: 0;overflow: hidden;text-align: left;background-color: #f0f8ff;}#sk-container-id-4 div.sk-toggleable__content pre {margin: 0.2em;color: black;border-radius: 0.25em;background-color: #f0f8ff;}#sk-container-id-4 input.sk-toggleable__control:checked~div.sk-toggleable__content {max-height: 200px;max-width: 100%;overflow: auto;}#sk-container-id-4 input.sk-toggleable__control:checked~label.sk-toggleable__label-arrow:before {content: \"▾\";}#sk-container-id-4 div.sk-estimator input.sk-toggleable__control:checked~label.sk-toggleable__label {background-color: #d4ebff;}#sk-container-id-4 div.sk-label input.sk-toggleable__control:checked~label.sk-toggleable__label {background-color: #d4ebff;}#sk-container-id-4 input.sk-hidden--visually {border: 0;clip: rect(1px 1px 1px 1px);clip: rect(1px, 1px, 1px, 1px);height: 1px;margin: -1px;overflow: hidden;padding: 0;position: absolute;width: 1px;}#sk-container-id-4 div.sk-estimator {font-family: monospace;background-color: #f0f8ff;border: 1px dotted black;border-radius: 0.25em;box-sizing: border-box;margin-bottom: 0.5em;}#sk-container-id-4 div.sk-estimator:hover {background-color: #d4ebff;}#sk-container-id-4 div.sk-parallel-item::after {content: \"\";width: 100%;border-bottom: 1px solid gray;flex-grow: 1;}#sk-container-id-4 div.sk-label:hover label.sk-toggleable__label {background-color: #d4ebff;}#sk-container-id-4 div.sk-serial::before {content: \"\";position: absolute;border-left: 1px solid gray;box-sizing: border-box;top: 0;bottom: 0;left: 50%;z-index: 0;}#sk-container-id-4 div.sk-serial {display: flex;flex-direction: column;align-items: center;background-color: white;padding-right: 0.2em;padding-left: 0.2em;position: relative;}#sk-container-id-4 div.sk-item {position: relative;z-index: 1;}#sk-container-id-4 div.sk-parallel {display: flex;align-items: stretch;justify-content: center;background-color: white;position: relative;}#sk-container-id-4 div.sk-item::before, #sk-container-id-4 div.sk-parallel-item::before {content: \"\";position: absolute;border-left: 1px solid gray;box-sizing: border-box;top: 0;bottom: 0;left: 50%;z-index: -1;}#sk-container-id-4 div.sk-parallel-item {display: flex;flex-direction: column;z-index: 1;position: relative;background-color: white;}#sk-container-id-4 div.sk-parallel-item:first-child::after {align-self: flex-end;width: 50%;}#sk-container-id-4 div.sk-parallel-item:last-child::after {align-self: flex-start;width: 50%;}#sk-container-id-4 div.sk-parallel-item:only-child::after {width: 0;}#sk-container-id-4 div.sk-dashed-wrapped {border: 1px dashed gray;margin: 0 0.4em 0.5em 0.4em;box-sizing: border-box;padding-bottom: 0.4em;background-color: white;}#sk-container-id-4 div.sk-label label {font-family: monospace;font-weight: bold;display: inline-block;line-height: 1.2em;}#sk-container-id-4 div.sk-label-container {text-align: center;}#sk-container-id-4 div.sk-container {/* jupyter's `normalize.less` sets `[hidden] { display: none; }` but bootstrap.min.css set `[hidden] { display: none !important; }` so we also need the `!important` here to be able to override the default hidden behavior on the sphinx rendered scikit-learn.org. See: https://github.com/scikit-learn/scikit-learn/issues/21755 */display: inline-block !important;position: relative;}#sk-container-id-4 div.sk-text-repr-fallback {display: none;}</style><div id=\"sk-container-id-4\" class=\"sk-top-container\"><div class=\"sk-text-repr-fallback\"><pre>LinearRegression()</pre><b>In a Jupyter environment, please rerun this cell to show the HTML representation or trust the notebook. <br />On GitHub, the HTML representation is unable to render, please try loading this page with nbviewer.org.</b></div><div class=\"sk-container\" hidden><div class=\"sk-item\"><div class=\"sk-estimator sk-toggleable\"><input class=\"sk-toggleable__control sk-hidden--visually\" id=\"sk-estimator-id-4\" type=\"checkbox\" checked><label for=\"sk-estimator-id-4\" class=\"sk-toggleable__label sk-toggleable__label-arrow\">LinearRegression</label><div class=\"sk-toggleable__content\"><pre>LinearRegression()</pre></div></div></div></div></div>"
      ],
      "text/plain": [
       "LinearRegression()"
      ]
     },
     "execution_count": 62,
     "metadata": {},
     "output_type": "execute_result"
    }
   ],
   "source": [
    "regressor4=LinearRegression()\n",
    "regressor4.fit(X_train.values, y_train)"
   ]
  },
  {
   "cell_type": "code",
   "execution_count": 63,
   "id": "dcfd3622",
   "metadata": {},
   "outputs": [],
   "source": [
    "y_pred4=regressor4.predict(X_test.values)"
   ]
  },
  {
   "cell_type": "code",
   "execution_count": 64,
   "id": "ef572e74",
   "metadata": {},
   "outputs": [
    {
     "name": "stdout",
     "output_type": "stream",
     "text": [
      "r2_score: 0.15\n",
      "MSE: 1\n",
      "RMSE: 1\n"
     ]
    }
   ],
   "source": [
    "print(f\"r2_score: {r2_score(y_test,y_pred4):.2f}\")\n",
    "print(f\"MSE: {mean_squared_error(y_test,y_pred4):.0f}\")\n",
    "print(f\"RMSE: {math.sqrt(mean_squared_error(y_test,y_pred4)):.0f}\")"
   ]
  },
  {
   "cell_type": "code",
   "execution_count": 65,
   "id": "7c50d025",
   "metadata": {},
   "outputs": [
    {
     "data": {
      "text/plain": [
       "array([[0.68233673]])"
      ]
     },
     "execution_count": 65,
     "metadata": {},
     "output_type": "execute_result"
    }
   ],
   "source": [
    "#predicting the cr of a monster whose actual cr is 1/4\n",
    "regressor4.predict([[12,13,10,14,10,11,12,11, 0,0,0,1,0,0, 0,0,0, 1, 0,0,0,0,1,0,0,0]])"
   ]
  },
  {
   "cell_type": "code",
   "execution_count": 66,
   "id": "18c82c0f",
   "metadata": {},
   "outputs": [
    {
     "data": {
      "text/plain": [
       "array([[11.53308975]])"
      ]
     },
     "execution_count": 66,
     "metadata": {},
     "output_type": "execute_result"
    }
   ],
   "source": [
    "#predicting the cr of a monster whose actual cr is 10\n",
    "regressor4.predict([[17,135,21,9,15,18,15,18, 0,0,1,0,0,0, 0,1,0, 0, 0,0,0,0,0,1,0,0]])"
   ]
  },
  {
   "cell_type": "code",
   "execution_count": 67,
   "id": "5683d474",
   "metadata": {},
   "outputs": [
    {
     "data": {
      "text/plain": [
       "array([[0.74845306]])"
      ]
     },
     "execution_count": 67,
     "metadata": {},
     "output_type": "execute_result"
    }
   ],
   "source": [
    "#predicting the cr of a monster whose actual cr is 1/4\n",
    "regressor4.predict([[10,9,10,10,10,10,14,11, 0,0,0,1,0,0, 0,1,0, 1, 0,0,0,0,0,1,0,0]])"
   ]
  },
  {
   "cell_type": "code",
   "execution_count": null,
   "id": "e59ee49c",
   "metadata": {},
   "outputs": [],
   "source": []
  }
 ],
 "metadata": {
  "kernelspec": {
   "display_name": "Python 3 (ipykernel)",
   "language": "python",
   "name": "python3"
  },
  "language_info": {
   "codemirror_mode": {
    "name": "ipython",
    "version": 3
   },
   "file_extension": ".py",
   "mimetype": "text/x-python",
   "name": "python",
   "nbconvert_exporter": "python",
   "pygments_lexer": "ipython3",
   "version": "3.11.5"
  }
 },
 "nbformat": 4,
 "nbformat_minor": 5
}
